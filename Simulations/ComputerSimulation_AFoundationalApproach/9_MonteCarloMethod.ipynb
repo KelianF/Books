{
 "cells": [
  {
   "cell_type": "markdown",
   "metadata": {},
   "source": [
    "# Python procedure for estimating $\\pi$ using MC Simulation"
   ]
  },
  {
   "cell_type": "code",
   "execution_count": 4,
   "metadata": {},
   "outputs": [
    {
     "name": "stdout",
     "output_type": "stream",
     "text": [
      "Pi =  3.14176\n",
      "Variance =  0.1685\n"
     ]
    }
   ],
   "source": [
    "from random import *\n",
    "from statistics import *\n",
    "\n",
    "N = 1_000_000\n",
    "\n",
    "Z = []\n",
    "\n",
    "for i in range(N):\n",
    "    x = uniform(-1, 1)\n",
    "    y = uniform(-1, 1)\n",
    "    if x**2 + y**2 <= 1:\n",
    "        Z.append(1)\n",
    "    else:\n",
    "        Z.append(0)\n",
    "\n",
    "print(\"Pi = \", 4.0 * round(mean(Z), 5))  # E=Here expect 3.14..\n",
    "print(\"Variance = \", round(variance(Z), 4))"
   ]
  },
  {
   "cell_type": "code",
   "execution_count": 5,
   "metadata": {},
   "outputs": [
    {
     "name": "stdout",
     "output_type": "stream",
     "text": [
      "A_I =  170.71\n",
      "Variance =  0.2359\n"
     ]
    }
   ],
   "source": [
    "# from random import *\n",
    "from statistics import *\n",
    "\n",
    "# Specify parameters\n",
    "a = 1\n",
    "b = 8\n",
    "N = 100_000\n",
    "\n",
    "# Integrand\n",
    "def f(x):\n",
    "    return x**2\n",
    "\n",
    "# Find value of c\n",
    "c = f(b)\n",
    "\n",
    "# Area of rectangle\n",
    "A_J = (b-a) * c\n",
    "\n",
    "Z = [0]*N\n",
    "for i in range(N):\n",
    "    x = uniform(a, b)\n",
    "    y = uniform(0, c)\n",
    "    if y <= f(x):\n",
    "        Z[i] = 1\n",
    "        \n",
    "A_I = mean(Z) * A_J\n",
    "\n",
    "print(\"A_I = \", round(A_I, 2))\n",
    "print(\"Variance = \", round(variance(Z), 4))\n",
    "    "
   ]
  },
  {
   "cell_type": "markdown",
   "metadata": {},
   "source": [
    "# Procedure for Buffon's needle experiement"
   ]
  },
  {
   "cell_type": "code",
   "execution_count": 8,
   "metadata": {},
   "outputs": [
    {
     "name": "stdout",
     "output_type": "stream",
     "text": [
      "P =  0.636\n",
      "Exact = 0.637\n"
     ]
    }
   ],
   "source": [
    "from random import *\n",
    "from math import *\n",
    "\n",
    "l = 1\n",
    "d = 1\n",
    "n = 1000_000\n",
    "count = 0\n",
    "\n",
    "for i in range(n):\n",
    "    a = uniform(0, d/2)\n",
    "    phi = uniform(0, pi)\n",
    "    b = (1/2) * sin(phi)\n",
    "    if a <= b:\n",
    "        count = count + 1\n",
    "        \n",
    "print(\"P = \", round(count/n, 3))\n",
    "print(\"Exact =\", round((2*l)/(pi*d), 3))"
   ]
  },
  {
   "cell_type": "markdown",
   "metadata": {},
   "source": [
    "# Estimating the reliability of a system"
   ]
  },
  {
   "cell_type": "code",
   "execution_count": 9,
   "metadata": {},
   "outputs": [
    {
     "name": "stdout",
     "output_type": "stream",
     "text": [
      "Rel_Sys =  0.027\n"
     ]
    }
   ],
   "source": [
    "from random import *\n",
    "\n",
    "Num_Trials = 100_000\n",
    "count = 0\n",
    "p = 0.3  # Rpobability a block is working\n",
    "\n",
    "def Phi(X):\n",
    "    if sum(X) == 3:\n",
    "        return 1\n",
    "    else:\n",
    "        return 0\n",
    "    \n",
    "for i in range(Num_Trials):\n",
    "    X = []\n",
    "    for j in range(3):\n",
    "        if random() <= p: X.append(1)\n",
    "        else: X.append(0)\n",
    "    count = count + Phi(X)\n",
    "    \n",
    "print(\"Rel_Sys = \", round(count/Num_Trials, 3))"
   ]
  },
  {
   "cell_type": "markdown",
   "metadata": {},
   "source": [
    "# Estimation of control variance integral "
   ]
  },
  {
   "cell_type": "code",
   "execution_count": 10,
   "metadata": {},
   "outputs": [
    {
     "name": "stdout",
     "output_type": "stream",
     "text": [
      "I(CMC) =  1.7208 , Variance = 0.2419\n",
      "I(CV) = 1.7182 , Variance =  0.0039\n"
     ]
    }
   ],
   "source": [
    "from random import *\n",
    "from math import *\n",
    "from statistics import *\n",
    "\n",
    "n = 100_000\n",
    "\n",
    "Y_mean = 1/2\n",
    "\n",
    "X = []\n",
    "Y = []\n",
    "\n",
    "for i in range(n):\n",
    "    u = random()\n",
    "    X.append(exp(u))\n",
    "    Y.append(u)\n",
    "    \n",
    "X_bar = mean(X)\n",
    "Y_bar = mean(Y)\n",
    "\n",
    "# Auxiliary lists for computing c\n",
    "A = []\n",
    "B = []\n",
    "\n",
    "for i in range(n):\n",
    "    A.append((X[i] - X_bar) * (Y[i] - Y_bar))\n",
    "    B.append( (Y[i] - Y_bar)**2 )\n",
    "    \n",
    "c = sum(A) / sum(B)\n",
    "\n",
    "# Samples of CV-based estimator\n",
    "Z = []\n",
    "for i in range(n):\n",
    "    Z.append( X[i] - c * (Y[i] - Y_mean) )\n",
    "    \n",
    "# answer using CMC\n",
    "print(\"I(CMC) = \", round(mean(X), 4), \", Variance =\", round(variance(X), 4))\n",
    "\n",
    "# Answer using Control Variates (CV)\n",
    "print(\"I(CV) =\", round(mean(Z), 4), \", Variance = \", round(variance(Z), 4))\n",
    "\n"
   ]
  },
  {
   "cell_type": "markdown",
   "metadata": {},
   "source": [
    "# Estimating an integral using the crude monte carlo and stratified methods"
   ]
  },
  {
   "cell_type": "markdown",
   "metadata": {},
   "source": [
    "# Integral: $\\int_0^1 e^-x dx$"
   ]
  },
  {
   "cell_type": "code",
   "execution_count": 14,
   "metadata": {},
   "outputs": [
    {
     "name": "stdout",
     "output_type": "stream",
     "text": [
      "I(CMC) =  0.6303 , Variance = 0.0323\n",
      "I(Stratified) = 0.632 , Variance = 0.0324\n"
     ]
    }
   ],
   "source": [
    "from random import *\n",
    "from math import *\n",
    "from statistics import *\n",
    "\n",
    "n = 10_000\n",
    "\n",
    "X = []\n",
    "\n",
    "for i in range(n):\n",
    "    u = random()\n",
    "    X.append( exp(-u))\n",
    "    \n",
    "print(\"I(CMC) = \", round(mean(X), 4), \", Variance =\", round(variance(X), 4))\n",
    "\n",
    "Y = []\n",
    "\n",
    "K = 4  # Number of strata\n",
    "N_i = int(n/K)\n",
    "\n",
    "for i in range(K):\n",
    "    for j in range(N_i):\n",
    "        a = i * 1/K\n",
    "        b = a + 1/K\n",
    "        u = uniform(a,b)\n",
    "        Y.append( exp(-u) )\n",
    "        \n",
    "print(\"I(Stratified) =\", round(mean(Y), 4), \", Variance =\", round(variance(Y),4))\n"
   ]
  },
  {
   "cell_type": "markdown",
   "metadata": {},
   "source": [
    "# Estimating the mean of a uniform random variable using antithetic sampling"
   ]
  },
  {
   "cell_type": "code",
   "execution_count": 15,
   "metadata": {},
   "outputs": [
    {
     "name": "stdout",
     "output_type": "stream",
     "text": [
      "Mean(S_cmc) = 25.0271 , Variance = 178.0146\n",
      "Mean(S_ant) = 25.0 , Variance = 0.0\n"
     ]
    }
   ],
   "source": [
    "from random import *\n",
    "from statistics import *\n",
    "\n",
    "n = 1_000\n",
    "\n",
    "# parameters of the uniform distribution\n",
    "a = 2\n",
    "b = 48\n",
    "\n",
    "# samples generated using the crude Monte Carlo method\n",
    "S_cmc = []\n",
    "\n",
    "# Samples generated using the antithetic method\n",
    "S_ant = []\n",
    "\n",
    "for i in range(n):\n",
    "    v = uniform(a, b)\n",
    "    S_cmc.append(v)\n",
    "    v_ = a + b - v\n",
    "    S_ant.append( (v + v_) / 2)\n",
    "\n",
    "print(\"Mean(S_cmc) =\", round(mean(S_cmc), 4), \", Variance =\", \n",
    "      round(variance(S_cmc), 4))\n",
    "print(\"Mean(S_ant) =\", round(mean(S_ant), 4), \", Variance =\",\n",
    "     round(variance(S_ant), 4))"
   ]
  },
  {
   "cell_type": "markdown",
   "metadata": {},
   "source": [
    "# Estimating the value of the integral: $ \\int_0^1 e^{x^2} dx $ using CMC and antithetic sampling."
   ]
  },
  {
   "cell_type": "code",
   "execution_count": 23,
   "metadata": {},
   "outputs": [
    {
     "name": "stdout",
     "output_type": "stream",
     "text": [
      "Mean(S_cmc) = 1.4568 , Variance = 0.2244\n",
      "Mean(S_ant) = 1.4638 , Variance = 0.0283\n"
     ]
    }
   ],
   "source": [
    "from random import *\n",
    "from statistics import *\n",
    "from math import *\n",
    "\n",
    "n = 10_000\n",
    "\n",
    "S_cmc = []\n",
    "S_ant = []\n",
    "\n",
    "for i in range(n):\n",
    "    u = random()\n",
    "    u_ = 1 - u\n",
    "    S_cmc.append( exp(u**2) )\n",
    "    S_ant.append( (exp(u**2) + exp(u_**2)) / 2)\n",
    "    \n",
    "print(\"Mean(S_cmc) =\", round(mean(S_cmc), 4), \n",
    "      \", Variance =\", round(variance(S_cmc), 4))\n",
    "print(\"Mean(S_ant) =\", round(mean(S_ant), 4), \n",
    "      \", Variance =\", round(variance(S_ant), 4))\n"
   ]
  },
  {
   "cell_type": "markdown",
   "metadata": {},
   "source": [
    "Although both the crude Monte Carlo and antithetic sampling methods achieve a good accuracy, they significantly differ in the variance. Antithetic sampling achieves a very low variance for the same number of samples."
   ]
  },
  {
   "cell_type": "markdown",
   "metadata": {},
   "source": [
    "# Estimating the reliability of s system using dagger sampling"
   ]
  },
  {
   "cell_type": "code",
   "execution_count": 24,
   "metadata": {},
   "outputs": [
    {
     "name": "stdout",
     "output_type": "stream",
     "text": [
      "Rel_Sys = 0.027\n"
     ]
    }
   ],
   "source": [
    "from random import *\n",
    "from math import *\n",
    "\n",
    "Num_Trials = 10_000\n",
    "count = 0\n",
    "p = 0.3  # Probability of a block is working\n",
    "\n",
    "S = floor(1/p)  # No. of subintervals\n",
    "\n",
    "def Phi(X):\n",
    "    if sum(X) == 3:\n",
    "        return 1\n",
    "    else:\n",
    "        return 0\n",
    "    \n",
    "# Three samples are generated in each iteration\n",
    "# Total number of samples is S * Num of Trial\n",
    "Total_Num_Samples = S * Num_Trials\n",
    "\n",
    "for i in range(Num_Trials):\n",
    "    s1 = [0] * 3\n",
    "    s2 = [0] * 3\n",
    "    s3 = [0] * 3\n",
    "    for j in range(3):\n",
    "        u = random()\n",
    "        if u <= p:\n",
    "            s1[j] = 1\n",
    "        elif p < u <= 2*p:\n",
    "            s2[j] = 1\n",
    "        elif 2*p < u <= 3*p:\n",
    "            s3[j] = 1\n",
    "    \n",
    "    count = count + Phi(s1)\n",
    "    count = count + Phi(s2)\n",
    "    count = count + Phi(s3)\n",
    "    \n",
    "print(\"Rel_Sys =\", round(count/Total_Num_Samples, 3))\n",
    "                "
   ]
  },
  {
   "cell_type": "markdown",
   "metadata": {},
   "source": [
    "# Estimating average of a function using importance sampling"
   ]
  },
  {
   "cell_type": "code",
   "execution_count": 26,
   "metadata": {},
   "outputs": [
    {
     "name": "stdout",
     "output_type": "stream",
     "text": [
      "E[g(x)] = 4.0\n"
     ]
    }
   ],
   "source": [
    "from random import *\n",
    "\n",
    "N = 100_000\n",
    "E_g = 0\n",
    "\n",
    "def g(x):\n",
    "    return 8 * x\n",
    "\n",
    "for i in range(N):\n",
    "    x = random()\n",
    "    y = normalvariate(0, 10)\n",
    "    w = x/y\n",
    "    E_g = E_g + g(y) * w\n",
    "\n",
    "print(\"E[g(x)] =\", round(E_g/N, 2))"
   ]
  },
  {
   "cell_type": "code",
   "execution_count": null,
   "metadata": {},
   "outputs": [],
   "source": []
  }
 ],
 "metadata": {
  "kernelspec": {
   "display_name": "Python 3",
   "language": "python",
   "name": "python3"
  },
  "language_info": {
   "codemirror_mode": {
    "name": "ipython",
    "version": 3
   },
   "file_extension": ".py",
   "mimetype": "text/x-python",
   "name": "python",
   "nbconvert_exporter": "python",
   "pygments_lexer": "ipython3",
   "version": "3.8.5"
  }
 },
 "nbformat": 4,
 "nbformat_minor": 4
}
