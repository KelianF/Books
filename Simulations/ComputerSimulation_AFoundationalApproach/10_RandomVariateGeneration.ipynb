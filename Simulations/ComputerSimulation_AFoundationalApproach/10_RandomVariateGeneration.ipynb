{
 "cells": [
  {
   "cell_type": "markdown",
   "metadata": {},
   "source": [
    "# Generating Random Variates"
   ]
  },
  {
   "cell_type": "code",
   "execution_count": 5,
   "metadata": {},
   "outputs": [
    {
     "name": "stdout",
     "output_type": "stream",
     "text": [
      "u = 0.3627395627562999 v = 2\n"
     ]
    }
   ],
   "source": [
    "import random as rnd\n",
    "\n",
    "p = [0.1, 0.2, 0.4, 0.1, 0.2]\n",
    "\n",
    "u = rnd.random()\n",
    "\n",
    "if (0 <= u < p[0]):\n",
    "    v = 0\n",
    "elif (p[0] <= u < sum(p[0:2])):\n",
    "    v = 1\n",
    "elif (sum(p[0:2]) <= u < sum(p[0:3])):\n",
    "    v = 2\n",
    "elif (sum(p[0:3]) <= u < sum(p[0:4])):\n",
    "    v = 3\n",
    "else:\n",
    "    v = 4\n",
    "    \n",
    "print(\"u =\", u, \"v =\", v)"
   ]
  },
  {
   "cell_type": "markdown",
   "metadata": {},
   "source": [
    "# Generating Bernoulli random variates"
   ]
  },
  {
   "cell_type": "code",
   "execution_count": 8,
   "metadata": {},
   "outputs": [
    {
     "name": "stdout",
     "output_type": "stream",
     "text": [
      "0\n"
     ]
    }
   ],
   "source": [
    "import random as rnd\n",
    "\n",
    "p = 0.5  # Probability of success\n",
    "\n",
    "u = rnd.random()\n",
    "\n",
    "if 0 <= u < p:\n",
    "    print(\"1\")  # Success\n",
    "else:\n",
    "    print(\"0\")  # Failure"
   ]
  },
  {
   "cell_type": "markdown",
   "metadata": {},
   "source": [
    "# Generating Binomial random variate"
   ]
  },
  {
   "cell_type": "code",
   "execution_count": 10,
   "metadata": {},
   "outputs": [
    {
     "name": "stdout",
     "output_type": "stream",
     "text": [
      "v = 2\n"
     ]
    }
   ],
   "source": [
    "import random as rnd\n",
    "\n",
    "p = 0.3  # Probability of success\n",
    "n = 10  # Number of trial\n",
    "count = 0  # Count number of successes\n",
    "\n",
    "def Bernoulli(p):\n",
    "    u = rnd.random()\n",
    "    if 0 <= u < p:\n",
    "        return 1\n",
    "    else:\n",
    "        return 0\n",
    "\n",
    "for i in range(n):\n",
    "    count += Bernoulli(p)\n",
    "    \n",
    "print(\"v =\", count)\n"
   ]
  },
  {
   "cell_type": "markdown",
   "metadata": {},
   "source": [
    "# Generating geometric random variates"
   ]
  },
  {
   "cell_type": "code",
   "execution_count": 20,
   "metadata": {},
   "outputs": [
    {
     "name": "stdout",
     "output_type": "stream",
     "text": [
      "V = 1\n"
     ]
    }
   ],
   "source": [
    "import random as rnd\n",
    "\n",
    "p = 0.6  # Probability of success\n",
    "# Number of bernoulli trials needed before the first success\n",
    "count = 0\n",
    "\n",
    "def Bernoulli(p):\n",
    "    u = rnd.random()\n",
    "    if 0 <= u < p:\n",
    "        return 1\n",
    "    else:\n",
    "        return 0\n",
    "    \n",
    "while (Bernoulli(p) == 0):\n",
    "    count += 1\n",
    "    \n",
    "print(\"V =\", count)"
   ]
  },
  {
   "cell_type": "markdown",
   "metadata": {},
   "source": [
    "# Generating random variates based on the rejection method"
   ]
  },
  {
   "cell_type": "code",
   "execution_count": 25,
   "metadata": {},
   "outputs": [
    {
     "name": "stdout",
     "output_type": "stream",
     "text": [
      "1.9844200340213227\n"
     ]
    }
   ],
   "source": [
    "import random as rnd\n",
    "import math as M\n",
    "\n",
    "def f(x):\n",
    "    return 0.2 * M.exp(-(x - 0.2)**2.0) + \\\n",
    "                0.8 * M.exp(-(x - 2.0)**2.0 /0.2)\n",
    "    \n",
    "def g(x):\n",
    "    return 1  # Uniform PDF\n",
    "\n",
    "stop = False\n",
    "while not stop:\n",
    "    x = rnd.uniform(0, 4)  # Generate x\n",
    "    u = rnd.random()  # y = u * g(x)\n",
    "    if u <= f(x) / g(x):\n",
    "        print(x)\n",
    "        stop = True\n",
    "        "
   ]
  },
  {
   "cell_type": "markdown",
   "metadata": {},
   "source": [
    "# Generating an Erlang random variate using the convolution"
   ]
  },
  {
   "cell_type": "code",
   "execution_count": 27,
   "metadata": {},
   "outputs": [
    {
     "name": "stdout",
     "output_type": "stream",
     "text": [
      "Y = 4.518747323142407\n"
     ]
    }
   ],
   "source": [
    "from random import *\n",
    "from math import *\n",
    "\n",
    "k = 10\n",
    "theta = 1.5\n",
    "\n",
    "y = 0\n",
    "\n",
    "for i in range(k):\n",
    "    u = random()\n",
    "    x = (-1 / theta) * log(1-u)\n",
    "    y = y + x\n",
    "    \n",
    "print(\"Y =\", y)"
   ]
  },
  {
   "cell_type": "markdown",
   "metadata": {},
   "source": [
    "# Generating a standard normal random variate using the convolution method"
   ]
  },
  {
   "cell_type": "code",
   "execution_count": 28,
   "metadata": {},
   "outputs": [
    {
     "name": "stdout",
     "output_type": "stream",
     "text": [
      "Z = 0.3322233851204921\n"
     ]
    }
   ],
   "source": [
    "from random import *\n",
    "\n",
    "z = -6\n",
    "for i in range(12):\n",
    "    u = random()\n",
    "    z += u\n",
    "    \n",
    "print(\"Z =\", z)"
   ]
  },
  {
   "cell_type": "markdown",
   "metadata": {},
   "source": [
    "# Generating a Poisson random variate"
   ]
  },
  {
   "cell_type": "code",
   "execution_count": 34,
   "metadata": {},
   "outputs": [
    {
     "name": "stdout",
     "output_type": "stream",
     "text": [
      "v = 11\n"
     ]
    }
   ],
   "source": [
    "import random as rnd\n",
    "import math\n",
    "\n",
    "lmda = 10\n",
    "count = 0\n",
    "\n",
    "b = math.exp(-lmda)\n",
    "u = rnd.random()\n",
    "\n",
    "while u >= b:\n",
    "    count += 1\n",
    "    u *= rnd.random()\n",
    "    \n",
    "print(\"v =\", count)"
   ]
  },
  {
   "cell_type": "markdown",
   "metadata": {},
   "source": [
    "# Generating a random variate from a standard normal distribution"
   ]
  },
  {
   "cell_type": "code",
   "execution_count": 36,
   "metadata": {},
   "outputs": [
    {
     "name": "stdout",
     "output_type": "stream",
     "text": [
      "z1 = 0.33804075363036534 , z2 = 0.7002447580408879\n"
     ]
    }
   ],
   "source": [
    "from math import *\n",
    "from random import random\n",
    "\n",
    "def normal(u1, u2):\n",
    "    z1 = sqrt(-2 * log(u1)) * cos(2 * pi * u2)\n",
    "    z2 = sqrt(-2 * log(u1)) * sin (2 * pi * u2)\n",
    "    return z1, z2\n",
    "\n",
    "u1 = random()\n",
    "u2 = random()\n",
    "z = normal(u1, u2)\n",
    "\n",
    "print(\"z1 =\", z[0], \", z2 =\", z[1])"
   ]
  },
  {
   "cell_type": "code",
   "execution_count": null,
   "metadata": {},
   "outputs": [],
   "source": []
  }
 ],
 "metadata": {
  "kernelspec": {
   "display_name": "Python 3",
   "language": "python",
   "name": "python3"
  },
  "language_info": {
   "codemirror_mode": {
    "name": "ipython",
    "version": 3
   },
   "file_extension": ".py",
   "mimetype": "text/x-python",
   "name": "python",
   "nbconvert_exporter": "python",
   "pygments_lexer": "ipython3",
   "version": "3.8.5"
  }
 },
 "nbformat": 4,
 "nbformat_minor": 4
}
