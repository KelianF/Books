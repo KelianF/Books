{
 "cells": [
  {
   "cell_type": "markdown",
   "metadata": {},
   "source": [
    "# Python implementation of the event graph"
   ]
  },
  {
   "cell_type": "code",
   "execution_count": 4,
   "metadata": {},
   "outputs": [],
   "source": [
    "from random import *\n",
    "from bisect import *\n",
    "\n",
    "# Parameters\n",
    "Lambda = 0.5\n",
    "mu = 0.7\n",
    "n = 100 # Number of packets to be simulated\n",
    "\n",
    "# Initialization \n",
    "clock = 0.0  # Simulation clock\n",
    "evList = []  # Event List\n",
    "count = 0    # Count number of packets simulated so far\n",
    "\n",
    "# Insert an event into the event list\n",
    "def insert(ev):\n",
    "    insort_right(evList, ev)\n",
    "    \n",
    "# Event generator for the arrival event\n",
    "def Gen_Arr_Ev(clock):\n",
    "    global count\n",
    "    count += 1\n",
    "    if count <= n:\n",
    "        ev = ( clock + expovariate(Lambda), Handle_Arr_Ev)\n",
    "        insert(ev)\n",
    "        \n",
    "# Event generator for the departure event\n",
    "def Gen_Dep_Ev(clock):\n",
    "    ev = (clock + expovariate(mu), Handle_Dep_Ev)\n",
    "    insert(ev)\n",
    "        \n",
    "# Event handler for the arrival event\n",
    "def Handle_Arr_Ev(clock):\n",
    "    global N\n",
    "    N += 1   # Update state variable\n",
    "    Gen_Arr_Ev(clock)  # Generate next arrival event\n",
    "    if N == 1:\n",
    "        Gen_Dep_Ev(clock)\n",
    "        \n",
    "# Event handler for the departure event\n",
    "def Handle_Dep_Ev(clock):\n",
    "    global N\n",
    "    N -= 1\n",
    "    if N > 0:\n",
    "        Gen_Dep_Ev(clock)\n",
    "        \n",
    "# Initialize state variable and generate initial events\n",
    "N = 0    # State variable\n",
    "Gen_Arr_Ev(0.0)  # Initial event \n",
    "\n",
    "# simulation loop\n",
    "while evList:\n",
    "    ev = evList.pop(0)\n",
    "    clock = ev[0]\n",
    "    ev[1](clock)  # handle event\n",
    "\n",
    "    "
   ]
  },
  {
   "cell_type": "code",
   "execution_count": null,
   "metadata": {},
   "outputs": [],
   "source": []
  },
  {
   "cell_type": "code",
   "execution_count": null,
   "metadata": {},
   "outputs": [],
   "source": []
  }
 ],
 "metadata": {
  "kernelspec": {
   "display_name": "Python 3",
   "language": "python",
   "name": "python3"
  },
  "language_info": {
   "codemirror_mode": {
    "name": "ipython",
    "version": 3
   },
   "file_extension": ".py",
   "mimetype": "text/x-python",
   "name": "python",
   "nbconvert_exporter": "python",
   "pygments_lexer": "ipython3",
   "version": "3.8.5"
  }
 },
 "nbformat": 4,
 "nbformat_minor": 4
}
