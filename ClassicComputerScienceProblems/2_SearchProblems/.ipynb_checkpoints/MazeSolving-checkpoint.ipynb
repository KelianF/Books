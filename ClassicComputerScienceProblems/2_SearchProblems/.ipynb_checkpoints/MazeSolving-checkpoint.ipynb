{
 "cells": [
  {
   "cell_type": "markdown",
   "id": "18e7b91a",
   "metadata": {},
   "source": [
    "### Generating a random Maze"
   ]
  },
  {
   "cell_type": "code",
   "execution_count": 1,
   "id": "e60f3bd5",
   "metadata": {},
   "outputs": [],
   "source": [
    "from enum import Enum\n",
    "from typing import List, NamedTuple, Callable, Optional\n",
    "import random\n",
    "from math import sqrt\n",
    "# from generic_search import dfs, bfs, node_to_path, astar, Node\n",
    "\n",
    "class Cell(str, Enum):\n",
    "    EMPTY = \" \"\n",
    "    BLOCKED = \"X\"\n",
    "    START = \"S\"\n",
    "    GOAL = \"G\"\n",
    "    PATH = \"*\"\n",
    "    \n",
    "class MazeLocation(NamedTuple):\n",
    "    row: int\n",
    "    column: int"
   ]
  },
  {
   "cell_type": "code",
   "execution_count": 2,
   "id": "039256db",
   "metadata": {},
   "outputs": [],
   "source": [
    "class Maze:\n",
    "    def __init__(self, rows: int=10, columns: int=10, sparseness: float=0.2, \n",
    "                 start:MazeLocation = MazeLocation(0,0), \n",
    "                 goal:MazeLocation = MazeLocation(9,9)) -> None:\n",
    "        # initialize basic instance variables\n",
    "        self._rows: int = rows\n",
    "        self._columns: int = columns\n",
    "        self.start: MazeLocation = start\n",
    "        self.goal: MazeLocation = goal\n",
    "        # Fill the grid with empty cell\n",
    "        self._grid: List[List[Cell]] = [[Cell.EMPTY for c in range(columns)]\n",
    "                                       for r in range(rows)]\n",
    "        #Populaqte the grid with blocked cells\n",
    "        self._randomly_fill(rows, columns, sparseness)\n",
    "        # Fill the start and goal locations in\n",
    "        self._grid[start.row][start.column] = Cell.START\n",
    "        self._grid[goal.row][goal.column] = Cell.GOAL\n",
    "        \n",
    "    def _randomly_fill(self, rows: int,\n",
    "                      columns: int,\n",
    "                      sparseness: float):\n",
    "        for row in range(rows):\n",
    "            for column in range(columns):\n",
    "                if random.uniform(0, 1.0) < sparseness:\n",
    "                    self._grid[row][column] = Cell.BLOCKED\n",
    "                    \n",
    "    def __str__(self) -> str:\n",
    "        output: str = \"\"\n",
    "        for row in self._grid:\n",
    "            output += \"\".join([c.value for c in row]) + \"\\n\"\n",
    "        return output\n",
    "    \n",
    "    def goal_test(self, ml: MazeLocation) -> bool:\n",
    "        return ml == self.goal\n",
    "    \n",
    "    def successors(self, ml: MazeLocation) -> List[MazeLocation]:\n",
    "        locations: List[MazeLocation] = []\n",
    "        if ml.row + 1 < self._rows and self._grid[ml.row + 1][ml.column] != Cell.BLOCKED:\n",
    "            locations.append(MazeLocation(ml.row + 1, ml.column))\n",
    "        if ml.row - 1 >= 0 and self._grid[ml.row - 1][ml.column] != Cell.BLOCKED:\n",
    "            locations.append(MazeLocation(ml.row - 1, ml.column))\n",
    "        if ml.column + 1 < self._columns and self._grid[ml.row][ml.column + 1] != Cell.BLOCKED:\n",
    "            locations.append(MazeLocation(ml.row, ml.column + 1))\n",
    "        if ml.column - 1 >= 0 and self._grid[ml.row][ml.column - 1] != Cell.BLOCKED:\n",
    "            locations.append(MazeLocation(ml.row, ml.column - 1))\n",
    "        return locations\n",
    "    \n",
    "    def mark(self, path: List[MazeLocation]):\n",
    "        for maze_location in path:\n",
    "            self._grid[maze_location.row][maze_location.column] = Cell.PATH\n",
    "        self._grid[self.start.row][self.start.column] = Cell.START\n",
    "        self._grid[self.goal.row][self.goal.column] = Cell.GOAL\n",
    "    \n",
    "    def clear(self, path: List[MazeLocation]):\n",
    "        for maze_location in path:\n",
    "            self._grid[maze_location.row][maze_location.column] = Cell.EMPTY\n",
    "        self._grid[self.start.row][self.start.column] = Cell.START\n",
    "        self._grid[self.goal.row][self.goal.column] = Cell.GOAL"
   ]
  },
  {
   "cell_type": "code",
   "execution_count": 3,
   "id": "58a6a223",
   "metadata": {},
   "outputs": [
    {
     "name": "stdout",
     "output_type": "stream",
     "text": [
      "SXX       \n",
      "        XX\n",
      "X  X X  X \n",
      "   X   X  \n",
      "         X\n",
      "X         \n",
      "          \n",
      "    X  X  \n",
      "        X \n",
      "      XX G\n",
      "\n"
     ]
    }
   ],
   "source": [
    "maze: Maze = Maze()\n",
    "print(maze)"
   ]
  },
  {
   "cell_type": "markdown",
   "id": "82e55cc6",
   "metadata": {},
   "source": [
    "### Depth-First Search"
   ]
  },
  {
   "cell_type": "markdown",
   "id": "3acfcb3b",
   "metadata": {},
   "source": [
    "## Creating a Stack Class:"
   ]
  },
  {
   "cell_type": "code",
   "execution_count": 4,
   "id": "a3edefe9",
   "metadata": {},
   "outputs": [],
   "source": [
    "from typing import Generic, TypeVar\n",
    "T = TypeVar(\"T\")\n",
    "\n",
    "class Stack(Generic[T]):\n",
    "    def __init__(self) -> None:\n",
    "        self._container: List[T] = []\n",
    "    \n",
    "    @property\n",
    "    def empty(self) -> bool:\n",
    "        return not self._container  # not is true for empty container\n",
    "    \n",
    "    def push(self, item: T) -> None:\n",
    "        self._container.append(item)\n",
    "    \n",
    "    def pop(self) -> T:\n",
    "        return self._container.pop()  # LIFO\n",
    "    \n",
    "    def __repr__(self) -> str:\n",
    "        return repr(self._container)"
   ]
  },
  {
   "cell_type": "code",
   "execution_count": 5,
   "id": "dc9428d3",
   "metadata": {},
   "outputs": [],
   "source": [
    "from __future__ import annotations"
   ]
  },
  {
   "cell_type": "markdown",
   "id": "56c6b024",
   "metadata": {},
   "source": [
    "^ This allows a Class to reference itself in the type hints of its methods"
   ]
  },
  {
   "cell_type": "code",
   "execution_count": 6,
   "id": "d04e9b83",
   "metadata": {},
   "outputs": [],
   "source": [
    "class Node(Generic[T]):\n",
    "    def __init__(self, state: T, parent: Optional[Node], cost: float = 0.0,\n",
    "                heuristic: float = 0.0) -> None:\n",
    "        self.state: T = state\n",
    "        self.parent: Optional[Node] = parent\n",
    "        self.cost: float = cost\n",
    "        self.heuristic: float = heuristic\n",
    "            \n",
    "    def __lt__(self, other: Node) -> bool:\n",
    "        return (self.cost + self.heuristic) < (other.cost + other.heuristic)"
   ]
  },
  {
   "cell_type": "markdown",
   "id": "77caa532",
   "metadata": {},
   "source": [
    "Depth-first search (DFS) is an algorithm for traversing or searching tree or graph data structures. The algorithm starts at the root node (selecting some arbitrary node as the root node in the case of a graph) and explores as far as possible along each branch before backtracking."
   ]
  },
  {
   "cell_type": "code",
   "execution_count": 7,
   "id": "84726964",
   "metadata": {},
   "outputs": [],
   "source": [
    "def dfs(initial: T, goal_test: Callable[[T], bool], \n",
    "        successors: Callable[[T], List[T]]) -> Optional[Node[T]]:\n",
    "    # frontier is where we've yet to go\n",
    "    frontier: Stack[Node[T]] = Stack()\n",
    "    frontier.push(Node(initial, None))\n",
    "    # explored is where we've been\n",
    "    explored: Set[T] = {initial}\n",
    "        \n",
    "    # Keep going while there is more to explore\n",
    "    while not frontier.empty:\n",
    "        current_node: Node[T] = frontier.pop()\n",
    "        current_state: T = current_node.state\n",
    "        # if we found the goal, we're done\n",
    "        if goal_test(current_state):\n",
    "            return current_node\n",
    "        # check where we can go next and haven't explored\n",
    "        for child in successors(current_state):\n",
    "            if child in explored: # skip children we already explored\n",
    "                continue\n",
    "            explored.add(child)\n",
    "            frontier.push(Node(child, current_node))\n",
    "    return None  # Went through everything and never found goal"
   ]
  },
  {
   "cell_type": "markdown",
   "id": "98085259",
   "metadata": {},
   "source": [
    "If dfs() is successful, it returns the Node encapsulating the goal state. The path from the start to the goal can be reconstructed by working backward from this Node and its priors using the parent property."
   ]
  },
  {
   "cell_type": "code",
   "execution_count": 8,
   "id": "9c4ff0d1",
   "metadata": {},
   "outputs": [],
   "source": [
    "def node_to_path(node: Node[T]) -> List[T]:\n",
    "    path: List[T] = [node.state]\n",
    "    # Work backwards from end to front\n",
    "    while node.parent is not None:\n",
    "        node = node.parent\n",
    "        path.append(node.state)\n",
    "    path.reverse()\n",
    "    return path"
   ]
  },
  {
   "cell_type": "code",
   "execution_count": 9,
   "id": "c9535354",
   "metadata": {},
   "outputs": [
    {
     "name": "stdout",
     "output_type": "stream",
     "text": [
      "S      X  \n",
      "   X XX   \n",
      "    XXX X \n",
      "          \n",
      "  X  X    \n",
      "          \n",
      "         X\n",
      "X         \n",
      " XX  X  XX\n",
      "         G\n",
      "\n",
      "S**    X  \n",
      "  *X XX   \n",
      "*** XXX X \n",
      "*         \n",
      "**X  X    \n",
      " ******** \n",
      "        *X\n",
      "X  ****** \n",
      " XX* X  XX\n",
      "   ******G\n",
      "\n"
     ]
    }
   ],
   "source": [
    "if __name__ == \"__main__\":\n",
    "    # Test DFS\n",
    "    m: Maze = Maze()\n",
    "    print(m)\n",
    "    solution1: Optional[Node[MazeLocation]] = dfs(m.start, \n",
    "                                                  m.goal_test, m.successors)\n",
    "    if solution1 is None:\n",
    "        print(\"No solution found using depth-first search!\")\n",
    "    else:\n",
    "        path1: List[MazeLocation] = node_to_path(solution1)\n",
    "        m.mark(path1)\n",
    "        print(m)\n",
    "        m.clear(path1)"
   ]
  },
  {
   "cell_type": "markdown",
   "id": "e6051baa",
   "metadata": {},
   "source": [
    "## Breadth-first search"
   ]
  },
  {
   "cell_type": "markdown",
   "id": "681a6b5b",
   "metadata": {},
   "source": [
    "### Queues"
   ]
  },
  {
   "cell_type": "markdown",
   "id": "82c8d1ff",
   "metadata": {},
   "source": [
    "To implement BFS, a data structure known as a queue is required. Whereas a stack is LIFO, a queue is FIFO (First-In-First-Out).\n"
   ]
  },
  {
   "cell_type": "code",
   "execution_count": 10,
   "id": "21886ef6",
   "metadata": {},
   "outputs": [],
   "source": [
    "from collections import deque"
   ]
  },
  {
   "cell_type": "code",
   "execution_count": 11,
   "id": "8a6be9ec",
   "metadata": {},
   "outputs": [],
   "source": [
    "class Queue(Generic[T]):\n",
    "    def __init__(self) -> None:\n",
    "        self._container: Deque[T] = deque()\n",
    "    \n",
    "    @property\n",
    "    def empty(self) -> bool:\n",
    "        return not self._container  # Not is true for empty container\n",
    "    \n",
    "    def push(self, item: T) -> None:\n",
    "        self._container.append(item)\n",
    "    \n",
    "    def pop(self) -> T:\n",
    "        return self._container.popleft()  # FIFO\n",
    "    \n",
    "    def __repr__(self) -> str:\n",
    "        return repr(self._container)"
   ]
  },
  {
   "cell_type": "markdown",
   "id": "df61a8d3",
   "metadata": {},
   "source": [
    "Also, deque.popleft() and list.pop(0) perform the same action but there is a difference in performance.\n",
    "deque.popleft() is faster than list.pop(0), because the deque has been optimized to do popleft() approximately in O(1), while list.pop(0) takes O(n)"
   ]
  },
  {
   "cell_type": "markdown",
   "id": "71069318",
   "metadata": {},
   "source": [
    "### The BFS Algorithms\n"
   ]
  },
  {
   "cell_type": "markdown",
   "id": "3f927a28",
   "metadata": {},
   "source": [
    "Amazingly, the algorithm for a breadth-first search is identical to the algorithm for a depth-first search, with the frontier changed from a stack to a queue. Changing the frontier from a stack to a queue changes the order in which states are searched and ensures that the states closest to the start state are searched first."
   ]
  },
  {
   "cell_type": "code",
   "execution_count": 12,
   "id": "c840ac86",
   "metadata": {},
   "outputs": [],
   "source": [
    "def bfs(initial: T, goal_test: callable[[T], bool], \n",
    "        successors: Callable[[T], List[T]]) -> Optional[Node[T]]:\n",
    "    # Frontier is where we've yet to go\n",
    "    frontier: Queue[Node[T]] = Queue()\n",
    "    frontier.push(Node(initial, None))\n",
    "    # explored is where we've been\n",
    "    explored: Set[T] = {initial}\n",
    "        \n",
    "    # Keep going while there is more to explore\n",
    "    while not frontier.empty:\n",
    "        current_node: Node[T] = frontier.pop()\n",
    "        current_state: T = current_node.state\n",
    "        # if we found the goal, we're done!\n",
    "        if goal_test(current_state):\n",
    "            return current_node\n",
    "        # check where we can go next and haven't explored\n",
    "        for child in successors(current_state):\n",
    "            if child  in explored: #skip children we already explored\n",
    "                continue\n",
    "            explored.add(child)\n",
    "            frontier.push(Node(child, current_node))\n",
    "    return None  # Went through everything and never found goal"
   ]
  },
  {
   "cell_type": "code",
   "execution_count": 13,
   "id": "08ce23ae",
   "metadata": {},
   "outputs": [
    {
     "name": "stdout",
     "output_type": "stream",
     "text": [
      "S    X  XX\n",
      "         X\n",
      "  XXXX    \n",
      "  X X     \n",
      "   X X    \n",
      "        X \n",
      " X       X\n",
      "          \n",
      "    X   X \n",
      "         G\n",
      "\n",
      "S****X  XX\n",
      "    *****X\n",
      "  XXXX  **\n",
      "  X X    *\n",
      "   X X****\n",
      "******* X \n",
      "*X       X\n",
      "**********\n",
      "    X   X*\n",
      "         G\n",
      "\n",
      "S    X  XX\n",
      "*        X\n",
      "* XXXX    \n",
      "* X X     \n",
      "*  X X    \n",
      "*       X \n",
      "*X       X\n",
      "*         \n",
      "*   X   X \n",
      "*********G\n",
      "\n"
     ]
    }
   ],
   "source": [
    "if __name__ == \"__main__\":\n",
    "    # Test DFS\n",
    "    m: Maze = Maze()\n",
    "    print(m)\n",
    "    solution1: Optional[Node[MazeLocation]] = dfs(m.start, \n",
    "                                                  m.goal_test, m.successors)\n",
    "    if solution1 is None:\n",
    "        print(\"No solution found using depth-first search!\")\n",
    "    else:\n",
    "        path1: List[MazeLocation] = node_to_path(solution1)\n",
    "        m.mark(path1)\n",
    "        print(m)\n",
    "        m.clear(path1)\n",
    "    \n",
    "    solution2: Optional[Node[MazeLocation]] = bfs(m.start, \n",
    "                                                  m.goal_test, m.successors)\n",
    "    if solution2 is None:\n",
    "        print(\"No solution found using breadth-first search!\")\n",
    "    else:\n",
    "        path2: List[MazeLocation] = node_to_path(solution2)\n",
    "        m.mark(path2)\n",
    "        print(m)\n",
    "        m.clear(path2)"
   ]
  },
  {
   "cell_type": "markdown",
   "id": "d6292738",
   "metadata": {},
   "source": [
    "## A* Search"
   ]
  },
  {
   "cell_type": "markdown",
   "id": "3774c1b7",
   "metadata": {},
   "source": [
    "Like a BFS, an A search aims to find the shortest path from start state to goal state. Unlike the preceding BFS implementation, an A search uses a combination of a cost function and a heuristic function to focus its search on pathways most likely to get to the goal quickly.\n",
    "\n"
   ]
  },
  {
   "cell_type": "markdown",
   "id": "a5387e2e",
   "metadata": {},
   "source": [
    "### Priority Queues\n"
   ]
  },
  {
   "cell_type": "markdown",
   "id": "a5935d08",
   "metadata": {},
   "source": [
    "A priority queue keeps its elements in an internal order, such that the first element popped out is always the highest-priority element.\n",
    "\n"
   ]
  },
  {
   "cell_type": "code",
   "execution_count": 14,
   "id": "b6b2dd46",
   "metadata": {},
   "outputs": [],
   "source": [
    "from typing import TypeVar, Generic, List\n",
    "from heapq import heappush, heappop"
   ]
  },
  {
   "cell_type": "code",
   "execution_count": 15,
   "id": "952d6699",
   "metadata": {},
   "outputs": [],
   "source": [
    "class PriorityQueue(Generic[T]):\n",
    "    def __init__(self) -> None:\n",
    "        self._container: List[T] = []\n",
    "    \n",
    "    @property\n",
    "    def empty(self) -> bool:\n",
    "        return not self._container  # not is true for empty container\n",
    "    \n",
    "    def push(self, item: T) -> None:\n",
    "        heappush(self._container, item)  # in by priority\n",
    "        \n",
    "    def pop(self) -> T:\n",
    "        return heappop(self._container)  # out by priority\n",
    "    \n",
    "    def __repr__(self) -> str:\n",
    "        return repr(self._container)"
   ]
  },
  {
   "cell_type": "code",
   "execution_count": 16,
   "id": "340a7e3e",
   "metadata": {},
   "outputs": [],
   "source": [
    "def euclidiean_distance(goal: MazeLocation) -> Callable[[MazeLocation], float]:\n",
    "    def distance(ml: MazeLocation) -> float:\n",
    "        xdist: int = ml.column - goal.column\n",
    "        ydist: int = ml.row - goal.row\n",
    "        return sqrt((xdist * xdist) + (ydist * ydist))\n",
    "    return distance"
   ]
  },
  {
   "cell_type": "code",
   "execution_count": 17,
   "id": "7535b02d",
   "metadata": {},
   "outputs": [],
   "source": [
    "def manhattan_distance(goal: MazeLocation) -> Callable[[MazeLocation], float]:\n",
    "    def distance(ml: MazeLocation) -> float:\n",
    "        xdist: int = abs(ml.column - goal.column)\n",
    "        ydist: int = abs(ml.row - goal.row)\n",
    "        return (xdist + ydist)\n",
    "    return distance"
   ]
  },
  {
   "cell_type": "code",
   "execution_count": 18,
   "id": "6bd67dd7",
   "metadata": {},
   "outputs": [],
   "source": [
    "def astar(initial: T, goal_test: Callable[[T], bool], \n",
    "          successors: Callable[[T], List[T]], \n",
    "          heuristic: Callable[[T], float]) -> Optional[Node[T]]: \n",
    "        # frontier is where we've yet to go\n",
    "        frontier: PriorityQueue[Node[T]] = PriorityQueue()\n",
    "        frontier.push(Node(initial, None, 0.0, heuristic(initial)))\n",
    "        # explored is where we've been\n",
    "        explored: Dict[T, float] = {initial: 0.0}\n",
    "        \n",
    "        # Keep going while there is more to explore\n",
    "        while not frontier.empty:\n",
    "            current_node: Node[T] = frontier.pop()\n",
    "            current_state: T = current_node.state\n",
    "            # if we found the goal, we're done\n",
    "            if goal_test(current_state):\n",
    "                return current_node\n",
    "            # check where we can go next and haven't explored\n",
    "            for child in successors(current_state):\n",
    "                new_cost: float = current_node.cost + 1\n",
    "                # 1 assume a grid, need a cost function for more sophisticated apps\n",
    "                if child not in explored or explored[child] > new_cost:\n",
    "                    explored[child] = new_cost\n",
    "                    frontier.push(Node(child, current_node, new_cost, heuristic(child)))\n",
    "        return None # Went through everything and never found goal\n",
    "        "
   ]
  },
  {
   "cell_type": "markdown",
   "id": "c7ae8c80",
   "metadata": {},
   "source": [
    "# Test A*"
   ]
  },
  {
   "cell_type": "code",
   "execution_count": 19,
   "id": "126fede5",
   "metadata": {},
   "outputs": [
    {
     "name": "stdout",
     "output_type": "stream",
     "text": [
      "S    X  XX\n",
      "*        X\n",
      "* XXXX    \n",
      "**X X     \n",
      " **X X    \n",
      "  *     X \n",
      " X**     X\n",
      "   *****  \n",
      "    X  *X \n",
      "       **G\n",
      "\n"
     ]
    }
   ],
   "source": [
    "distance: callable[[MazeLocation], float] = manhattan_distance(m.goal)\n",
    "solution3: Optional[Node[MazeLocation]] = astar(m.start, m.goal_test, m.successors, distance)\n",
    "\n",
    "if solution3 is None:\n",
    "    print(\"No solution found using A*!\")\n",
    "else:\n",
    "    path3: List[MazeLocation] = node_to_path(solution3)\n",
    "    m.mark(path3)\n",
    "    print(m)\n",
    "        "
   ]
  },
  {
   "cell_type": "code",
   "execution_count": null,
   "id": "6f16e031",
   "metadata": {},
   "outputs": [],
   "source": []
  }
 ],
 "metadata": {
  "kernelspec": {
   "display_name": "Python 3 (ipykernel)",
   "language": "python",
   "name": "python3"
  },
  "language_info": {
   "codemirror_mode": {
    "name": "ipython",
    "version": 3
   },
   "file_extension": ".py",
   "mimetype": "text/x-python",
   "name": "python",
   "nbconvert_exporter": "python",
   "pygments_lexer": "ipython3",
   "version": "3.8.8"
  }
 },
 "nbformat": 4,
 "nbformat_minor": 5
}
