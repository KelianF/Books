{
 "cells": [
  {
   "cell_type": "markdown",
   "id": "respiratory-tampa",
   "metadata": {},
   "source": [
    "## Generating a random Maze"
   ]
  },
  {
   "cell_type": "code",
   "execution_count": 4,
   "id": "motivated-hearing",
   "metadata": {},
   "outputs": [],
   "source": [
    "from enum import Enum\n",
    "from typing import List, NamedTuple, Callable, Optional\n",
    "import random\n",
    "from math import sqrt\n",
    "# from generic_search import dfs, bfs, node_to_path, astar, Node\n",
    "\n",
    "class Cell(str, Enum):\n",
    "    EMPTY = \" \"\n",
    "    BLOCKED = \"X\"\n",
    "    START = \"S\"\n",
    "    GOAL = \"G\"\n",
    "    PATH = \"*\"\n",
    "    \n",
    "class MazeLocation(NamedTuple):\n",
    "    row: int\n",
    "    column: int"
   ]
  },
  {
   "cell_type": "code",
   "execution_count": 11,
   "id": "coastal-public",
   "metadata": {},
   "outputs": [],
   "source": [
    "class Maze:\n",
    "    def __init__(self, rows: int=10, columns: int=10, sparseness: float=0.2, \n",
    "                 start:MazeLocation = MazeLocation(0,0), \n",
    "                 goal:MazeLocation = MazeLocation(9,9)) -> None:\n",
    "        # initialize basic instance variables\n",
    "        self._rows: int = rows\n",
    "        self._columns: int = columns\n",
    "        self.start: MazeLocation = start\n",
    "        self.goal: MazeLocation = goal\n",
    "        # Fill the grid with empty cell\n",
    "        self._grid: List[List[Cell]] = [[Cell.EMPTY for c in range(columns)]\n",
    "                                       for r in range(rows)]\n",
    "        #Populaqte the grid with blocked cells\n",
    "        self._randomly_fill(rows, columns, sparseness)\n",
    "        # Fill the start and goal locations in\n",
    "        self._grid[start.row][start.column] = Cell.START\n",
    "        self._grid[goal.row][goal.column] = Cell.GOAL\n",
    "        \n",
    "    def _randomly_fill(self, rows: int,\n",
    "                      columns: int,\n",
    "                      sparseness: float):\n",
    "        for row in range(rows):\n",
    "            for column in range(columns):\n",
    "                if random.uniform(0, 1.0) < sparseness:\n",
    "                    self._grid[row][column] = Cell.BLOCKED\n",
    "                    \n",
    "    def __str__(self) -> str:\n",
    "        output: str = \"\"\n",
    "        for row in self._grid:\n",
    "            output += \"\".join([c.value for c in row]) + \"\\n\"\n",
    "        return output\n",
    "    \n",
    "    def goal_test(self, ml: MazeLocation) -> bool:\n",
    "        return ml == self.goal\n",
    "    \n",
    "    def successors(self, ml: MazeLocation) -> List[MazeLocation]:\n",
    "        locations: List[MazeLocation] = []\n",
    "        if ml.row + 1 < self._rows and self._grid[ml.row + 1][ml.column] != Cell.BLOCKED:\n",
    "            locations.append(MazeLocation(ml.row + 1, ml.column))\n",
    "        if ml.row - 1 >= 0 and self._grid[ml.row - 1][ml.column] != Cell.BLOCKED:\n",
    "            locations.append(MazeLocation(ml.row - 1, ml.column))\n",
    "        if ml.column + 1 < self._columns and self._grid[ml.row][ml.column + 1] != Cell.BLOCKED:\n",
    "            locations.append(MazeLocation(ml.row, ml.column + 1))\n",
    "        if ml.column - 1 >= 0 and self._grid[ml.row][ml.column - 1] != Cell.BLOCKED:\n",
    "            locations.append(MazeLocation(ml.row, ml.column - 1))\n",
    "        return locations\n",
    "                "
   ]
  },
  {
   "cell_type": "code",
   "execution_count": 12,
   "id": "dependent-running",
   "metadata": {},
   "outputs": [
    {
     "name": "stdout",
     "output_type": "stream",
     "text": [
      "S XX     X\n",
      "         X\n",
      "   X  XXX \n",
      "X X       \n",
      "   X X    \n",
      "     X    \n",
      "     XX   \n",
      "     XX   \n",
      "  XX  XX  \n",
      "        XG\n",
      "\n"
     ]
    }
   ],
   "source": [
    "maze: Maze = Maze()\n",
    "print(maze)"
   ]
  },
  {
   "cell_type": "markdown",
   "id": "charged-composite",
   "metadata": {},
   "source": [
    "## Depth-First Search"
   ]
  },
  {
   "cell_type": "code",
   "execution_count": null,
   "id": "blocked-wonder",
   "metadata": {},
   "outputs": [],
   "source": [
    "## Rewriting "
   ]
  },
  {
   "cell_type": "markdown",
   "id": "foster-crisis",
   "metadata": {},
   "source": [
    "### Creating a Stack Class:"
   ]
  },
  {
   "cell_type": "code",
   "execution_count": 16,
   "id": "banner-intensity",
   "metadata": {},
   "outputs": [],
   "source": [
    "from typing import Generic, TypeVar\n",
    "T = TypeVar(\"T\")\n",
    "\n",
    "class Stack(Generic[T]):\n",
    "    def __init__(self) -> None:\n",
    "        self._container: List[T] = []\n",
    "    \n",
    "    @property\n",
    "    def empty(self) -> bool:\n",
    "        return not self._container  # not is true for empty container\n",
    "    \n",
    "    def push(self, item: T) -> None:\n",
    "        self._container.append(item)\n",
    "    \n",
    "    def pop(self) -> T:\n",
    "        return self._container.pop()  # LIFO\n",
    "    \n",
    "    def __repr__(self) -> str:\n",
    "        return repr(self._container)"
   ]
  },
  {
   "cell_type": "code",
   "execution_count": null,
   "id": "latter-reception",
   "metadata": {},
   "outputs": [],
   "source": []
  }
 ],
 "metadata": {
  "kernelspec": {
   "display_name": "Python 3",
   "language": "python",
   "name": "python3"
  },
  "language_info": {
   "codemirror_mode": {
    "name": "ipython",
    "version": 3
   },
   "file_extension": ".py",
   "mimetype": "text/x-python",
   "name": "python",
   "nbconvert_exporter": "python",
   "pygments_lexer": "ipython3",
   "version": "3.8.3"
  }
 },
 "nbformat": 4,
 "nbformat_minor": 5
}
