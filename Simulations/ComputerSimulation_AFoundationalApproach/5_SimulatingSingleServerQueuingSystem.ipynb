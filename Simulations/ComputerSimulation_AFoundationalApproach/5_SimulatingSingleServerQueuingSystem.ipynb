{
 "cells": [
  {
   "cell_type": "markdown",
   "metadata": {},
   "source": [
    "# Simulation program of the single-server queuing system"
   ]
  },
  {
   "cell_type": "code",
   "execution_count": 2,
   "metadata": {},
   "outputs": [],
   "source": [
    "from random import expovariate\n",
    "from math import inf as Inf\n",
    "\n",
    "Avg_IAT = 2.0\n",
    "Avg_ST = 1.0\n",
    "Tot_Sim_Time = 100.0\n",
    "clock = 0.0\n",
    "\n",
    "N = 0  # State Variable; number of customers in the system\n",
    "\n",
    "# Time of the next arrival event\n",
    "Arr_Time = expovariate(1.0/Avg_IAT)\n",
    "\n",
    "#Time of the next departure event\n",
    "Dep_Time = Inf"
   ]
  },
  {
   "cell_type": "code",
   "execution_count": 3,
   "metadata": {},
   "outputs": [],
   "source": [
    "while clock <= Tot_Sim_Time:\n",
    "    if Arr_Time < Dep_Time:  # Arival Event\n",
    "        clock = Arr_Time\n",
    "        N = N + 1.0\n",
    "        Arr_Time = clock + expovariate(1.0/Avg_IAT)\n",
    "        \n",
    "        if N == 1:\n",
    "            Dep_Time = clock + expovariate(1.0/Avg_ST)\n",
    "        \n",
    "    else:\n",
    "        clock = Dep_Time\n",
    "        N = N - 1.0\n",
    "        if N > 0:\n",
    "            Dep_Time = clock + expovariate(1.0/Avg_ST)\n",
    "        else:\n",
    "            Dep_Time = Inf"
   ]
  },
  {
   "cell_type": "markdown",
   "metadata": {},
   "source": [
    "# Estimating the average response time of the system"
   ]
  },
  {
   "cell_type": "code",
   "execution_count": 6,
   "metadata": {},
   "outputs": [
    {
     "name": "stdout",
     "output_type": "stream",
     "text": [
      "Average Delay = 1.4661\n"
     ]
    }
   ],
   "source": [
    "from random import expovariate\n",
    "from statistics import mean\n",
    "from math import inf as Inf\n",
    "\n",
    "# Parameters\n",
    "Lambda = 1.3\n",
    "mu = 2.0\n",
    "Num_Pkts = 100_000\n",
    "count = 0\n",
    "clock = 0\n",
    "N = 0\n",
    "\n",
    "Arr_Time = expovariate(Lambda)\n",
    "Dep_Time = Inf\n",
    "\n",
    "# Output Variabes\n",
    "Arr_Time_Data = []  # Collect arrival times\n",
    "Dep_Time_Data = []  # Collect departure times\n",
    "Delay_Data = []     # Collect delays of individual packets\n",
    "\n",
    "while count < Num_Pkts:\n",
    "    if Arr_Time < Dep_Time:  # Arrival time\n",
    "        clock = Arr_Time\n",
    "        Arr_Time_Data.append(clock)\n",
    "        N = N + 1.0\n",
    "        Arr_Time = clock + expovariate(Lambda)\n",
    "        if N == 1:\n",
    "            Dep_Time = clock + expovariate(mu)\n",
    "    else:\n",
    "        clock = Dep_Time\n",
    "        Dep_Time_Data.append(clock)\n",
    "        N = N - 1.0\n",
    "        count = count + 1  # Packet simulated\n",
    "        if N > 0:\n",
    "            Dep_Time = clock + expovariate(mu)\n",
    "        else:\n",
    "            Dep_Time = Inf\n",
    "            \n",
    "for i in range(Num_Pkts):\n",
    "    d = Dep_Time_Data[i] - Arr_Time_Data[i]\n",
    "    Delay_Data.append(d)\n",
    "    \n",
    "print(\"Average Delay =\", round(mean(Delay_Data), 4))"
   ]
  },
  {
   "cell_type": "markdown",
   "metadata": {},
   "source": [
    "# Estimating the steady state probability (P[N=K])"
   ]
  },
  {
   "cell_type": "code",
   "execution_count": 9,
   "metadata": {},
   "outputs": [
    {
     "name": "stdout",
     "output_type": "stream",
     "text": [
      "Sum of Prob's =  0.9999999999999998\n",
      "E[N] =  1.8533762971141778\n"
     ]
    }
   ],
   "source": [
    "from random import expovariate\n",
    "from statistics import mean\n",
    "from math import inf as Inf\n",
    "\n",
    "# Parameters\n",
    "Lambda = 1.3\n",
    "mu = 2.0\n",
    "Num_Pkts = 100_000\n",
    "count = 0\n",
    "clock = 0\n",
    "N = 0\n",
    "\n",
    "Arr_Time = expovariate(Lambda)\n",
    "Dep_Time = Inf\n",
    "Prev_Event_Time = 0.0\n",
    "\n",
    "Data = {}  # Dictionary\n",
    "\n",
    "while count < Num_Pkts:\n",
    "    if Arr_Time < Dep_Time:\n",
    "        clock = Arr_Time\n",
    "        # Length of time interval\n",
    "        delta = clock - Prev_Event_Time\n",
    "        if N in Data: Data[N] += delta\n",
    "        else: Data[N] = delta\n",
    "        Prev_Event_Time = clock\n",
    "        N = N + 1.0\n",
    "        Arr_Time = clock + expovariate(Lambda)\n",
    "        if N == 1:\n",
    "            Dep_Time = clock + expovariate(mu)\n",
    "    else:\n",
    "        clock = Dep_Time\n",
    "        # Length of time interval\n",
    "        delta = clock - Prev_Event_Time\n",
    "        if N in Data:\n",
    "            Data[N] += delta\n",
    "        else:\n",
    "            Data[N] = delta\n",
    "        Prev_Event_Time = clock\n",
    "        N = N - 1.0\n",
    "        count = count + 1.0\n",
    "        if N > 0:\n",
    "            Dep_Time = clock + expovariate(mu)\n",
    "        else:\n",
    "            Dep_Time = Inf\n",
    "        \n",
    "# Compute probabilities\n",
    "for (key, value) in Data.items():\n",
    "    Data[key]= value / clock\n",
    "\n",
    "# Check total probability 1.0\n",
    "print(\"Sum of Prob's = \", sum( Data.values()))\n",
    "\n",
    "# Check Expectation\n",
    "mean = 0.0\n",
    "for (key, value) in Data.items():\n",
    "    mean = mean + key * value\n",
    "\n",
    "print(\"E[N] = \", mean)"
   ]
  },
  {
   "cell_type": "code",
   "execution_count": null,
   "metadata": {},
   "outputs": [],
   "source": []
  },
  {
   "cell_type": "code",
   "execution_count": null,
   "metadata": {},
   "outputs": [],
   "source": []
  },
  {
   "cell_type": "code",
   "execution_count": null,
   "metadata": {},
   "outputs": [],
   "source": []
  },
  {
   "cell_type": "code",
   "execution_count": null,
   "metadata": {},
   "outputs": [],
   "source": []
  },
  {
   "cell_type": "code",
   "execution_count": null,
   "metadata": {},
   "outputs": [],
   "source": []
  },
  {
   "cell_type": "code",
   "execution_count": null,
   "metadata": {},
   "outputs": [],
   "source": []
  },
  {
   "cell_type": "code",
   "execution_count": null,
   "metadata": {},
   "outputs": [],
   "source": []
  },
  {
   "cell_type": "code",
   "execution_count": null,
   "metadata": {},
   "outputs": [],
   "source": []
  },
  {
   "cell_type": "code",
   "execution_count": null,
   "metadata": {},
   "outputs": [],
   "source": []
  },
  {
   "cell_type": "code",
   "execution_count": null,
   "metadata": {},
   "outputs": [],
   "source": []
  },
  {
   "cell_type": "code",
   "execution_count": null,
   "metadata": {},
   "outputs": [],
   "source": []
  },
  {
   "cell_type": "code",
   "execution_count": null,
   "metadata": {},
   "outputs": [],
   "source": []
  }
 ],
 "metadata": {
  "kernelspec": {
   "display_name": "Python 3",
   "language": "python",
   "name": "python3"
  },
  "language_info": {
   "codemirror_mode": {
    "name": "ipython",
    "version": 3
   },
   "file_extension": ".py",
   "mimetype": "text/x-python",
   "name": "python",
   "nbconvert_exporter": "python",
   "pygments_lexer": "ipython3",
   "version": "3.8.5"
  }
 },
 "nbformat": 4,
 "nbformat_minor": 4
}
