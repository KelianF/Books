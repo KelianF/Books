{
 "cells": [
  {
   "cell_type": "markdown",
   "id": "6d273801",
   "metadata": {},
   "source": [
    "# Variables"
   ]
  },
  {
   "cell_type": "code",
   "execution_count": 2,
   "id": "f1dfc4c9",
   "metadata": {},
   "outputs": [
    {
     "name": "stdout",
     "output_type": "stream",
     "text": [
      "5\n",
      "<class 'int'>\n"
     ]
    }
   ],
   "source": [
    "# Integer Variable\n",
    "x = 5\n",
    "print(x)\n",
    "print( type(x))"
   ]
  },
  {
   "cell_type": "code",
   "execution_count": 3,
   "id": "6411601d",
   "metadata": {},
   "outputs": [
    {
     "name": "stdout",
     "output_type": "stream",
     "text": [
      "hello\n",
      "<class 'str'>\n"
     ]
    }
   ],
   "source": [
    "# Sting var\n",
    "x = \"hello\"\n",
    "print(x)\n",
    "print(type(x))"
   ]
  },
  {
   "cell_type": "code",
   "execution_count": 4,
   "id": "9f3fc6fe",
   "metadata": {},
   "outputs": [
    {
     "name": "stdout",
     "output_type": "stream",
     "text": [
      "5.0 <class 'float'>\n"
     ]
    }
   ],
   "source": [
    "# Float\n",
    "x = 5.0\n",
    "print(x, type(x))"
   ]
  },
  {
   "cell_type": "code",
   "execution_count": 5,
   "id": "cead0c8c",
   "metadata": {},
   "outputs": [
    {
     "name": "stdout",
     "output_type": "stream",
     "text": [
      "True <class 'bool'>\n"
     ]
    }
   ],
   "source": [
    "# Bool\n",
    "x = True\n",
    "print(x, type(x))"
   ]
  },
  {
   "cell_type": "markdown",
   "id": "611efabc",
   "metadata": {},
   "source": [
    "# List"
   ]
  },
  {
   "cell_type": "code",
   "execution_count": 10,
   "id": "c1c6ae9b",
   "metadata": {},
   "outputs": [
    {
     "name": "stdout",
     "output_type": "stream",
     "text": [
      "[3, 'hello', 1.2]\n"
     ]
    }
   ],
   "source": [
    "x = [3, \"hello\", 1.2]\n",
    "print(x)"
   ]
  },
  {
   "cell_type": "code",
   "execution_count": 11,
   "id": "68b9ea37",
   "metadata": {},
   "outputs": [
    {
     "data": {
      "text/plain": [
       "3"
      ]
     },
     "execution_count": 11,
     "metadata": {},
     "output_type": "execute_result"
    }
   ],
   "source": [
    "len(x)"
   ]
  },
  {
   "cell_type": "code",
   "execution_count": 12,
   "id": "92135e3d",
   "metadata": {},
   "outputs": [
    {
     "name": "stdout",
     "output_type": "stream",
     "text": [
      "[3, 'hello', 1.2, 7] ;  4\n"
     ]
    }
   ],
   "source": [
    "x.append(7)\n",
    "print(x, \"; \", len(x))"
   ]
  },
  {
   "cell_type": "code",
   "execution_count": 13,
   "id": "a1782ae4",
   "metadata": {},
   "outputs": [
    {
     "name": "stdout",
     "output_type": "stream",
     "text": [
      "[3, 'hello', 1.2, 7, 2.4, 'world']\n"
     ]
    }
   ],
   "source": [
    "# Operations\n",
    "y = [2.4, \"world\"]\n",
    "z = x + y\n",
    "print(z)"
   ]
  },
  {
   "cell_type": "markdown",
   "id": "d578a826",
   "metadata": {},
   "source": [
    "# Tuples"
   ]
  },
  {
   "cell_type": "code",
   "execution_count": 16,
   "id": "2bd6f6f8",
   "metadata": {},
   "outputs": [
    {
     "name": "stdout",
     "output_type": "stream",
     "text": [
      "(3.0, 'hello')\n"
     ]
    }
   ],
   "source": [
    "x = (3.0, \"hello\")\n",
    "print(x)"
   ]
  },
  {
   "cell_type": "code",
   "execution_count": 17,
   "id": "338ac103",
   "metadata": {},
   "outputs": [
    {
     "name": "stdout",
     "output_type": "stream",
     "text": [
      "(3.0, 'hello', 5.6, 4)\n"
     ]
    }
   ],
   "source": [
    "x = x + (5.6, 4)\n",
    "print(x)"
   ]
  },
  {
   "cell_type": "markdown",
   "id": "94904170",
   "metadata": {},
   "source": [
    "# Sets"
   ]
  },
  {
   "cell_type": "code",
   "execution_count": 19,
   "id": "9179b6aa",
   "metadata": {},
   "outputs": [
    {
     "name": "stdout",
     "output_type": "stream",
     "text": [
      "{'t', 'W', 'h', ' ', 'M', 'w', 'i', 'n', 'e', 'd', 'r', 'L', 'a'}\n",
      "{'ML', 'with', 'Made', 'Learn', 'With'}\n"
     ]
    }
   ],
   "source": [
    "text = \"Learn ML with Made With ML\"\n",
    "print(set(text))\n",
    "print(set(text.split(\" \")))"
   ]
  },
  {
   "cell_type": "markdown",
   "id": "96db6a58",
   "metadata": {},
   "source": [
    "# Indexing"
   ]
  },
  {
   "cell_type": "code",
   "execution_count": 20,
   "id": "00c61e61",
   "metadata": {},
   "outputs": [
    {
     "name": "stdout",
     "output_type": "stream",
     "text": [
      "x[0]: 3\n",
      "x[1]: hello\n",
      "x[-1]: 1.2\n",
      "x[-2]: hello\n"
     ]
    }
   ],
   "source": [
    "x = [3, \"hello\", 1.2]\n",
    "print(\"x[0]:\", x[0])\n",
    "print(\"x[1]:\", x[1])\n",
    "print(\"x[-1]:\", x[-1])\n",
    "print(\"x[-2]:\", x[-2])"
   ]
  },
  {
   "cell_type": "markdown",
   "id": "5e69acf2",
   "metadata": {},
   "source": [
    "# Dictionaries"
   ]
  },
  {
   "cell_type": "code",
   "execution_count": 21,
   "id": "97877eca",
   "metadata": {},
   "outputs": [
    {
     "name": "stdout",
     "output_type": "stream",
     "text": [
      "{'name': 'Goku', 'eye_color': 'brown'}\n",
      "Goku\n",
      "brown\n"
     ]
    }
   ],
   "source": [
    "# Creating a dictionary\n",
    "person = {\"name\": \"Goku\",\n",
    "          \"eye_color\": \"brown\"}\n",
    "print (person)\n",
    "print (person[\"name\"])\n",
    "print (person[\"eye_color\"])"
   ]
  },
  {
   "cell_type": "code",
   "execution_count": 22,
   "id": "b9eba91f",
   "metadata": {},
   "outputs": [
    {
     "name": "stdout",
     "output_type": "stream",
     "text": [
      "{'name': 'Goku', 'eye_color': 'green'}\n"
     ]
    }
   ],
   "source": [
    "# Changing the value for a key\n",
    "person[\"eye_color\"] = \"green\"\n",
    "print (person)"
   ]
  },
  {
   "cell_type": "code",
   "execution_count": 23,
   "id": "efaf2522",
   "metadata": {},
   "outputs": [
    {
     "name": "stdout",
     "output_type": "stream",
     "text": [
      "{'name': 'Goku', 'eye_color': 'green', 'age': 24}\n"
     ]
    }
   ],
   "source": [
    "# Adding new key-value pairs\n",
    "person[\"age\"] = 24\n",
    "print (person)"
   ]
  },
  {
   "cell_type": "code",
   "execution_count": 24,
   "id": "4d894893",
   "metadata": {},
   "outputs": [
    {
     "name": "stdout",
     "output_type": "stream",
     "text": [
      "3\n"
     ]
    }
   ],
   "source": [
    "# Length of a dictionary\n",
    "print (len(person))"
   ]
  },
  {
   "cell_type": "markdown",
   "id": "8896c9ea",
   "metadata": {},
   "source": [
    "# Ordered Dict"
   ]
  },
  {
   "cell_type": "code",
   "execution_count": 26,
   "id": "4e90b8a4",
   "metadata": {},
   "outputs": [],
   "source": [
    "from collections import OrderedDict"
   ]
  },
  {
   "cell_type": "code",
   "execution_count": 27,
   "id": "690c894b",
   "metadata": {},
   "outputs": [
    {
     "name": "stdout",
     "output_type": "stream",
     "text": [
      "{'a': 2, 'c': 3, 'b': 1}\n"
     ]
    }
   ],
   "source": [
    "# Native dict\n",
    "d = {}\n",
    "d[\"a\"] = 2\n",
    "d[\"c\"] = 3\n",
    "d[\"b\"] = 1\n",
    "print (d)"
   ]
  },
  {
   "cell_type": "code",
   "execution_count": 30,
   "id": "fb5f3ec5",
   "metadata": {},
   "outputs": [
    {
     "data": {
      "text/plain": [
       "{'a': 2, 'c': 3, 'b': 1}"
      ]
     },
     "execution_count": 30,
     "metadata": {},
     "output_type": "execute_result"
    }
   ],
   "source": [
    "d\n",
    "# Since Python 3.7+, native dictionaries are insertion ordered."
   ]
  },
  {
   "cell_type": "code",
   "execution_count": 31,
   "id": "f38976c9",
   "metadata": {},
   "outputs": [
    {
     "name": "stdout",
     "output_type": "stream",
     "text": [
      "dict_items([('a', 2), ('c', 3), ('b', 1)])\n"
     ]
    }
   ],
   "source": [
    "# Dictionary items\n",
    "print (d.items())"
   ]
  },
  {
   "cell_type": "code",
   "execution_count": 32,
   "id": "b644fdda",
   "metadata": {},
   "outputs": [
    {
     "name": "stdout",
     "output_type": "stream",
     "text": [
      "OrderedDict([('a', 2), ('b', 1), ('c', 3)])\n"
     ]
    }
   ],
   "source": [
    "# Order by keys\n",
    "print (OrderedDict(sorted(d.items())))"
   ]
  },
  {
   "cell_type": "code",
   "execution_count": 33,
   "id": "76ad5e49",
   "metadata": {},
   "outputs": [
    {
     "name": "stdout",
     "output_type": "stream",
     "text": [
      "OrderedDict([('b', 1), ('a', 2), ('c', 3)])\n"
     ]
    }
   ],
   "source": [
    "# Order by values\n",
    "print (OrderedDict(sorted(d.items(), key=lambda x: x[1])))"
   ]
  },
  {
   "cell_type": "markdown",
   "id": "74cb95e9",
   "metadata": {},
   "source": [
    "# If Statement"
   ]
  },
  {
   "cell_type": "code",
   "execution_count": 34,
   "id": "05bc8627",
   "metadata": {},
   "outputs": [
    {
     "name": "stdout",
     "output_type": "stream",
     "text": [
      "medium\n"
     ]
    }
   ],
   "source": [
    "# If statement\n",
    "x = 4\n",
    "if x < 1:\n",
    "    score = \"low\"\n",
    "elif x <= 4: # elif = else if\n",
    "    score = \"medium\"\n",
    "else:\n",
    "    score = \"high\"\n",
    "print (score)"
   ]
  },
  {
   "cell_type": "code",
   "execution_count": 35,
   "id": "7f45cfac",
   "metadata": {},
   "outputs": [
    {
     "name": "stdout",
     "output_type": "stream",
     "text": [
      "it worked\n"
     ]
    }
   ],
   "source": [
    "# If statement with a boolean\n",
    "x = True\n",
    "if x:\n",
    "    print (\"it worked\")"
   ]
  },
  {
   "cell_type": "markdown",
   "id": "c6d74e43",
   "metadata": {},
   "source": [
    "# Classes"
   ]
  },
  {
   "cell_type": "code",
   "execution_count": 36,
   "id": "3b351a47",
   "metadata": {},
   "outputs": [],
   "source": [
    "# Creating the class\n",
    "class Pet(object):\n",
    "    \"\"\"Class object for a pet.\"\"\"\n",
    "\n",
    "    def __init__(self, species, name):\n",
    "        \"\"\"Initialize a Pet.\"\"\"\n",
    "        self.species = species\n",
    "        self.name = name"
   ]
  },
  {
   "cell_type": "code",
   "execution_count": 38,
   "id": "386d21ea",
   "metadata": {},
   "outputs": [
    {
     "name": "stdout",
     "output_type": "stream",
     "text": [
      "<__main__.Pet object at 0x000002365AA617F0>\n",
      "Scooby\n"
     ]
    }
   ],
   "source": [
    "# Creating an instance of a class\n",
    "my_dog = Pet(species=\"dog\",\n",
    "             name=\"Scooby\")\n",
    "print (my_dog)\n",
    "print (my_dog.name)"
   ]
  },
  {
   "cell_type": "code",
   "execution_count": 39,
   "id": "a07af1a5",
   "metadata": {},
   "outputs": [],
   "source": [
    "# Creating the class\n",
    "# Creating the class\n",
    "class Pet(object):\n",
    "    \"\"\"Class object for a pet.\"\"\"\n",
    "\n",
    "    def __init__(self, species, name):\n",
    "        \"\"\"Initialize a Pet.\"\"\"\n",
    "        self.species = species\n",
    "        self.name = name\n",
    "\n",
    "    def __str__(self):\n",
    "        \"\"\"Output when printing an instance of a Pet.\"\"\"\n",
    "        return f\"{self.species} named {self.name}\""
   ]
  },
  {
   "cell_type": "code",
   "execution_count": 40,
   "id": "17629b8b",
   "metadata": {},
   "outputs": [
    {
     "name": "stdout",
     "output_type": "stream",
     "text": [
      "dog named Scooby\n",
      "Scooby\n"
     ]
    }
   ],
   "source": [
    "# Creating an instance of a class\n",
    "my_dog = Pet(species=\"dog\",\n",
    "             name=\"Scooby\")\n",
    "print (my_dog)\n",
    "print (my_dog.name)"
   ]
  },
  {
   "cell_type": "code",
   "execution_count": 46,
   "id": "6a4b5425",
   "metadata": {},
   "outputs": [],
   "source": [
    "# Creating the class\n",
    "class Pet(object):\n",
    "    \"\"\"Class object for a pet.\"\"\"\n",
    "\n",
    "    def __init__(self, species, name):\n",
    "        \"\"\"Initialize a Pet.\"\"\"\n",
    "        self.species = species\n",
    "        self.name = name\n",
    "\n",
    "    def __str__(self):\n",
    "        \"\"\"Output when printing an instance of a Pet.\"\"\"\n",
    "        return f\"{self.species} named {self.name}\"\n",
    "\n",
    "    def change_name(self, new_name):\n",
    "        \"\"\"Change the name of your Pet.\"\"\"\n",
    "        self.name = new_name"
   ]
  },
  {
   "cell_type": "code",
   "execution_count": 47,
   "id": "aacbd827",
   "metadata": {},
   "outputs": [
    {
     "name": "stdout",
     "output_type": "stream",
     "text": [
      "dog named Scooby\n",
      "Scooby\n"
     ]
    }
   ],
   "source": [
    "# Creating an instance of a class\n",
    "my_dog = Pet(species=\"dog\", name=\"Scooby\")\n",
    "print (my_dog)\n",
    "print (my_dog.name)"
   ]
  },
  {
   "cell_type": "code",
   "execution_count": 48,
   "id": "3f7a428e",
   "metadata": {},
   "outputs": [
    {
     "name": "stdout",
     "output_type": "stream",
     "text": [
      "dog named Scrappy\n",
      "Scrappy\n"
     ]
    }
   ],
   "source": [
    "# Using a class's function\n",
    "my_dog.change_name(new_name=\"Scrappy\")\n",
    "print (my_dog)\n",
    "print (my_dog.name)"
   ]
  },
  {
   "cell_type": "markdown",
   "id": "cb8008c6",
   "metadata": {},
   "source": [
    "## Inheritance"
   ]
  },
  {
   "cell_type": "code",
   "execution_count": 53,
   "id": "ddd72bcf",
   "metadata": {},
   "outputs": [],
   "source": [
    "class Dog(Pet):\n",
    "    def __init__(self, species, name, breed):\n",
    "        super().__init__(species=\"dog\", name=name)\n",
    "        self.breed = breed\n",
    "\n",
    "    def __str__(self):\n",
    "        return f\"A {self.breed} doggo named {self.name}\""
   ]
  },
  {
   "cell_type": "code",
   "execution_count": 54,
   "id": "a8c554e9",
   "metadata": {},
   "outputs": [
    {
     "name": "stdout",
     "output_type": "stream",
     "text": [
      "A Great Dane doggo named Scooby\n"
     ]
    }
   ],
   "source": [
    "scooby = Dog(species=\"dog\", breed=\"Great Dane\", name=\"Scooby\")\n",
    "print (scooby)"
   ]
  },
  {
   "cell_type": "markdown",
   "id": "fb4b5a35",
   "metadata": {},
   "source": [
    "# Decorators and Callbacks "
   ]
  },
  {
   "cell_type": "code",
   "execution_count": 56,
   "id": "fbd91d82",
   "metadata": {},
   "outputs": [],
   "source": [
    "from functools import wraps"
   ]
  },
  {
   "cell_type": "code",
   "execution_count": 57,
   "id": "58a2cf7c",
   "metadata": {},
   "outputs": [],
   "source": [
    "# Decorator\n",
    "def add(f):\n",
    "    @wraps(f)\n",
    "    def wrap(*args, **kwargs):\n",
    "        \"\"\"Wrapper function for @add.\"\"\"\n",
    "        x = kwargs.pop(\"x\") # .get() if not altering x\n",
    "        x += 1 # executes before function f\n",
    "        x = f(*args, **kwargs, x=x)\n",
    "        # can do things post function f as well\n",
    "        return x\n",
    "    return wrap"
   ]
  },
  {
   "cell_type": "code",
   "execution_count": 58,
   "id": "4f14db2a",
   "metadata": {},
   "outputs": [],
   "source": [
    "# Callback\n",
    "class x_tracker(object):\n",
    "    def __init__(self, x):\n",
    "        self.history = [x]\n",
    "    def at_start(self, x):\n",
    "        self.history.append(x)\n",
    "    def at_end(self, x):\n",
    "        self.history.append(x)"
   ]
  },
  {
   "cell_type": "code",
   "execution_count": 59,
   "id": "252d14e4",
   "metadata": {},
   "outputs": [],
   "source": [
    "# Main function\n",
    "@add\n",
    "def operations(x, callbacks=[]):\n",
    "    \"\"\"Basic operations.\"\"\"\n",
    "    for callback in callbacks:\n",
    "        callback.at_start(x)\n",
    "    x += 1\n",
    "    for callback in callbacks:\n",
    "        callback.at_end(x)\n",
    "    return x"
   ]
  },
  {
   "cell_type": "code",
   "execution_count": 60,
   "id": "6ee6634f",
   "metadata": {},
   "outputs": [
    {
     "data": {
      "text/plain": [
       "3"
      ]
     },
     "execution_count": 60,
     "metadata": {},
     "output_type": "execute_result"
    }
   ],
   "source": [
    "x = 1\n",
    "tracker = x_tracker(x=x)\n",
    "operations(x=x, callbacks=[tracker])"
   ]
  },
  {
   "cell_type": "code",
   "execution_count": 61,
   "id": "8a5fda01",
   "metadata": {},
   "outputs": [
    {
     "data": {
      "text/plain": [
       "[1, 2, 3]"
      ]
     },
     "execution_count": 61,
     "metadata": {},
     "output_type": "execute_result"
    }
   ],
   "source": [
    "tracker.history"
   ]
  },
  {
   "cell_type": "code",
   "execution_count": null,
   "id": "b681176b",
   "metadata": {},
   "outputs": [],
   "source": []
  }
 ],
 "metadata": {
  "kernelspec": {
   "display_name": "Python 3 (ipykernel)",
   "language": "python",
   "name": "python3"
  },
  "language_info": {
   "codemirror_mode": {
    "name": "ipython",
    "version": 3
   },
   "file_extension": ".py",
   "mimetype": "text/x-python",
   "name": "python",
   "nbconvert_exporter": "python",
   "pygments_lexer": "ipython3",
   "version": "3.8.8"
  }
 },
 "nbformat": 4,
 "nbformat_minor": 5
}
