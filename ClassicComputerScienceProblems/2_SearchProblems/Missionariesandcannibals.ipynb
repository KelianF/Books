{
 "cells": [
  {
   "cell_type": "markdown",
   "id": "c8c28015",
   "metadata": {},
   "source": [
    "# Missionaries and Cannibals"
   ]
  },
  {
   "cell_type": "markdown",
   "id": "2ef9a824",
   "metadata": {},
   "source": [
    "Three missionaries and three cannibals are on the west bank of a river. They have a canoe that can hold two people, and they all\n",
    "must cross to the east bank of the river. There may never be more cannibals than missionaries on either side of the river, or the can-\n",
    "nibals will eat the missionaries. Further, the canoe must have at least one person on board to cross the river."
   ]
  },
  {
   "cell_type": "code",
   "execution_count": 9,
   "id": "7bebb2b0",
   "metadata": {},
   "outputs": [
    {
     "name": "stdout",
     "output_type": "stream",
     "text": [
      "Collecting import-ipynb\n",
      "  Downloading import-ipynb-0.1.3.tar.gz (4.0 kB)\n",
      "Building wheels for collected packages: import-ipynb\n",
      "  Building wheel for import-ipynb (setup.py): started\n",
      "  Building wheel for import-ipynb (setup.py): finished with status 'done'\n",
      "  Created wheel for import-ipynb: filename=import_ipynb-0.1.3-py3-none-any.whl size=2975 sha256=0ab8205d72ea0caf611518a02286cb2d9b13688921d01631acd5ead5e1382461\n",
      "  Stored in directory: c:\\users\\hana_fi\\appdata\\local\\pip\\cache\\wheels\\06\\7e\\ad\\1cb03e935234186825cefc7e2c8f3451b4f654b5bc72232a7b\n",
      "Successfully built import-ipynb\n",
      "Installing collected packages: import-ipynb\n",
      "Successfully installed import-ipynb-0.1.3\n"
     ]
    }
   ],
   "source": [
    "!pip --trusted-host pypi.org --trusted-host files.pythonhosted.org install import-ipynb"
   ]
  },
  {
   "cell_type": "code",
   "execution_count": 17,
   "id": "eb69efb7",
   "metadata": {},
   "outputs": [],
   "source": [
    "import import_ipynb"
   ]
  },
  {
   "cell_type": "code",
   "execution_count": 22,
   "id": "55b55103",
   "metadata": {},
   "outputs": [
    {
     "ename": "ImportError",
     "evalue": "cannot import name 'bfs' from 'MazeSolving' (MazeSolving.ipynb)",
     "output_type": "error",
     "traceback": [
      "\u001b[1;31m---------------------------------------------------------------------------\u001b[0m",
      "\u001b[1;31mImportError\u001b[0m                               Traceback (most recent call last)",
      "\u001b[1;32m~\\AppData\\Local\\Temp/ipykernel_2540/2854700077.py\u001b[0m in \u001b[0;36m<module>\u001b[1;34m\u001b[0m\n\u001b[0;32m      1\u001b[0m \u001b[1;32mfrom\u001b[0m \u001b[0m__future__\u001b[0m \u001b[1;32mimport\u001b[0m \u001b[0mannotations\u001b[0m\u001b[1;33m\u001b[0m\u001b[1;33m\u001b[0m\u001b[0m\n\u001b[0;32m      2\u001b[0m \u001b[1;32mfrom\u001b[0m \u001b[0mtyping\u001b[0m \u001b[1;32mimport\u001b[0m \u001b[0mList\u001b[0m\u001b[1;33m,\u001b[0m \u001b[0mOptional\u001b[0m\u001b[1;33m\u001b[0m\u001b[1;33m\u001b[0m\u001b[0m\n\u001b[1;32m----> 3\u001b[1;33m \u001b[1;32mfrom\u001b[0m \u001b[0mMazeSolving\u001b[0m \u001b[1;32mimport\u001b[0m \u001b[0mbfs\u001b[0m\u001b[1;33m,\u001b[0m \u001b[0mNode\u001b[0m\u001b[1;33m,\u001b[0m \u001b[0mnode_to_path\u001b[0m\u001b[1;33m\u001b[0m\u001b[1;33m\u001b[0m\u001b[0m\n\u001b[0m",
      "\u001b[1;31mImportError\u001b[0m: cannot import name 'bfs' from 'MazeSolving' (MazeSolving.ipynb)"
     ]
    }
   ],
   "source": [
    "from __future__ import annotations\n",
    "from typing import List, Optional\n",
    "from MazeSolving import bfs, Node, node_to_path"
   ]
  },
  {
   "cell_type": "code",
   "execution_count": 25,
   "id": "db782336",
   "metadata": {},
   "outputs": [],
   "source": [
    "MAX_NUM: int = 3\n",
    "    \n",
    "class MCState:\n",
    "    def __init__(self, misssionaries: int, cannibals: int, boat: bool) -> None:\n",
    "        self.wm: int = missionaries  # westbank missionaries\n",
    "        self.wc: int = cannibals  # westbank cannibals\n",
    "        self.em: int = MAX_NUM - self.wm  # eastbank missionaries\n",
    "        self.ec: int = MAX_NUM - self.wc  # eastbank cannibals\n",
    "        self.boat: bool = boat\n",
    "    \n",
    "    def __str__(self) -> str:\n",
    "        return (\"On the west bank there are {} missionaries and {} canniabals.\\n\"\n",
    "               \"On the east bank there are {} missionaries and {} cannibals.\\n\"\n",
    "               \"The boat is on the {} bank.\").format(self.wm, self.em, self.ec, (\"west\" if self.boat else \"east\"))\n",
    "    \n",
    "    def goal_test(self) -> bool:\n",
    "        return self.is_legal and self.em == MAX_NUM and self.ec == MAX_NUM"
   ]
  },
  {
   "cell_type": "code",
   "execution_count": null,
   "id": "48a2dde4",
   "metadata": {},
   "outputs": [],
   "source": []
  },
  {
   "cell_type": "code",
   "execution_count": null,
   "id": "fa19bd5f",
   "metadata": {},
   "outputs": [],
   "source": []
  },
  {
   "cell_type": "code",
   "execution_count": null,
   "id": "c491125a",
   "metadata": {},
   "outputs": [],
   "source": []
  },
  {
   "cell_type": "code",
   "execution_count": null,
   "id": "cfc14fa1",
   "metadata": {},
   "outputs": [],
   "source": []
  },
  {
   "cell_type": "code",
   "execution_count": null,
   "id": "d9bf3aa5",
   "metadata": {},
   "outputs": [],
   "source": []
  },
  {
   "cell_type": "code",
   "execution_count": null,
   "id": "cfd985bc",
   "metadata": {},
   "outputs": [],
   "source": []
  },
  {
   "cell_type": "code",
   "execution_count": null,
   "id": "d4a7d496",
   "metadata": {},
   "outputs": [],
   "source": []
  },
  {
   "cell_type": "code",
   "execution_count": null,
   "id": "a5113b56",
   "metadata": {},
   "outputs": [],
   "source": []
  },
  {
   "cell_type": "code",
   "execution_count": null,
   "id": "5fedb061",
   "metadata": {},
   "outputs": [],
   "source": []
  },
  {
   "cell_type": "code",
   "execution_count": null,
   "id": "af8784e9",
   "metadata": {},
   "outputs": [],
   "source": []
  },
  {
   "cell_type": "code",
   "execution_count": null,
   "id": "5c9e2244",
   "metadata": {},
   "outputs": [],
   "source": []
  },
  {
   "cell_type": "code",
   "execution_count": null,
   "id": "2954b414",
   "metadata": {},
   "outputs": [],
   "source": []
  }
 ],
 "metadata": {
  "kernelspec": {
   "display_name": "Python 3 (ipykernel)",
   "language": "python",
   "name": "python3"
  },
  "language_info": {
   "codemirror_mode": {
    "name": "ipython",
    "version": 3
   },
   "file_extension": ".py",
   "mimetype": "text/x-python",
   "name": "python",
   "nbconvert_exporter": "python",
   "pygments_lexer": "ipython3",
   "version": "3.8.8"
  }
 },
 "nbformat": 4,
 "nbformat_minor": 5
}
