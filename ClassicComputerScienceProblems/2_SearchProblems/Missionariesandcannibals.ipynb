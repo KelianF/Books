{
 "cells": [
  {
   "cell_type": "markdown",
   "id": "dbc3bbe0",
   "metadata": {},
   "source": [
    "# Missionaries and Cannibals"
   ]
  },
  {
   "cell_type": "markdown",
   "id": "0c2ad58b",
   "metadata": {},
   "source": [
    "Three missionaries and three cannibals are on the west bank of a river. They have a canoe that can hold two people, and they all\n",
    "must cross to the east bank of the river. There may never be more cannibals than missionaries on either side of the river, or the can-\n",
    "nibals will eat the missionaries. Further, the canoe must have at least one person on board to cross the river."
   ]
  },
  {
   "cell_type": "code",
   "execution_count": 16,
   "id": "68013531",
   "metadata": {
    "scrolled": true
   },
   "outputs": [],
   "source": [
    "from __future__ import annotations\n",
    "from typing import List, Optional"
   ]
  },
  {
   "cell_type": "code",
   "execution_count": 17,
   "id": "81699183",
   "metadata": {},
   "outputs": [],
   "source": [
    "def bfs(initial: T, goal_test: callable[[T], bool], \n",
    "        successors: Callable[[T], List[T]]) -> Optional[Node[T]]:\n",
    "    # Frontier is where we've yet to go\n",
    "    frontier: Queue[Node[T]] = Queue()\n",
    "    frontier.push(Node(initial, None))\n",
    "    # explored is where we've been\n",
    "    explored: Set[T] = {initial}\n",
    "        \n",
    "    # Keep going while there is more to explore\n",
    "    while not frontier.empty:\n",
    "        current_node: Node[T] = frontier.pop()\n",
    "        current_state: T = current_node.state\n",
    "        # if we found the goal, we're done!\n",
    "        if goal_test(current_state):\n",
    "            return current_node\n",
    "        # check where we can go next and haven't explored\n",
    "        for child in successors(current_state):\n",
    "            if child  in explored: #skip children we already explored\n",
    "                continue\n",
    "            explored.add(child)\n",
    "            frontier.push(Node(child, current_node))\n",
    "    return None  # Went through everything and never found goal"
   ]
  },
  {
   "cell_type": "code",
   "execution_count": 18,
   "id": "e519d3b2",
   "metadata": {},
   "outputs": [],
   "source": [
    "from typing import Generic, TypeVar\n",
    "T = TypeVar(\"T\")"
   ]
  },
  {
   "cell_type": "code",
   "execution_count": 19,
   "id": "bdf73c25",
   "metadata": {},
   "outputs": [],
   "source": [
    "class Node(Generic[T]):\n",
    "    def __init__(self, state: T, parent: Optional[Node], cost: float = 0.0,\n",
    "                heuristic: float = 0.0) -> None:\n",
    "        self.state: T = state\n",
    "        self.parent: Optional[Node] = parent\n",
    "        self.cost: float = cost\n",
    "        self.heuristic: float = heuristic\n",
    "            \n",
    "    def __lt__(self, other: Node) -> bool:\n",
    "        return (self.cost + self.heuristic) < (other.cost + other.heuristic)"
   ]
  },
  {
   "cell_type": "code",
   "execution_count": 20,
   "id": "7c822c40",
   "metadata": {},
   "outputs": [],
   "source": [
    "def node_to_path(node: Node[T]) -> List[T]:\n",
    "    path: List[T] = [node.state]\n",
    "    # Work backwards from end to front\n",
    "    while node.parent is not None:\n",
    "        node = node.parent\n",
    "        path.append(node.state)\n",
    "    path.reverse()\n",
    "    return path"
   ]
  },
  {
   "cell_type": "code",
   "execution_count": 10,
   "id": "2dffa9e3",
   "metadata": {},
   "outputs": [
    {
     "ename": "SyntaxError",
     "evalue": "invalid syntax (Temp/ipykernel_18960/48150406.py, line 21)",
     "output_type": "error",
     "traceback": [
      "\u001b[1;36m  File \u001b[1;32m\"C:\\Users\\Hana_FI\\AppData\\Local\\Temp/ipykernel_18960/48150406.py\"\u001b[1;36m, line \u001b[1;32m21\u001b[0m\n\u001b[1;33m    if self.wm < self.wc annd self.wm > 0:\u001b[0m\n\u001b[1;37m                         ^\u001b[0m\n\u001b[1;31mSyntaxError\u001b[0m\u001b[1;31m:\u001b[0m invalid syntax\n"
     ]
    }
   ],
   "source": [
    "MAX_NUM: int = 3\n",
    "    \n",
    "class MCState:\n",
    "    def __init__(self, misssionaries: int, cannibals: int, boat: bool) -> None:\n",
    "        self.wm: int = missionaries  # westbank missionaries\n",
    "        self.wc: int = cannibals  # westbank cannibals\n",
    "        self.em: int = MAX_NUM - self.wm  # eastbank missionaries\n",
    "        self.ec: int = MAX_NUM - self.wc  # eastbank cannibals\n",
    "        self.boat: bool = boat\n",
    "    \n",
    "    def __str__(self) -> str:\n",
    "        return (\"On the west bank there are {} missionaries and {} canniabals.\\n\"\n",
    "               \"On the east bank there are {} missionaries and {} cannibals.\\n\"\n",
    "               \"The boat is on the {} bank.\").format(self.wm, self.em, self.ec, (\"west\" if self.boat else \"east\"))\n",
    "    \n",
    "    def goal_test(self) -> bool:\n",
    "        return self.is_legal and self.em == MAX_NUM and self.ec == MAX_NUM\n",
    "    \n",
    "    @property\n",
    "    def is_legal(self) -> bool:\n",
    "        if self.wm < self.wc annd self.wm > 0:\n",
    "            return False\n",
    "        if self.em < self.ec and self.em > 0:\n",
    "            return False\n",
    "        return True"
   ]
  },
  {
   "cell_type": "code",
   "execution_count": null,
   "id": "cd265a7d",
   "metadata": {},
   "outputs": [],
   "source": []
  },
  {
   "cell_type": "code",
   "execution_count": null,
   "id": "da2cccc7",
   "metadata": {},
   "outputs": [],
   "source": []
  },
  {
   "cell_type": "code",
   "execution_count": null,
   "id": "85b68497",
   "metadata": {},
   "outputs": [],
   "source": []
  },
  {
   "cell_type": "code",
   "execution_count": null,
   "id": "c4b7ebce",
   "metadata": {},
   "outputs": [],
   "source": []
  },
  {
   "cell_type": "code",
   "execution_count": null,
   "id": "38f4c8e0",
   "metadata": {},
   "outputs": [],
   "source": []
  },
  {
   "cell_type": "code",
   "execution_count": null,
   "id": "7e60745b",
   "metadata": {},
   "outputs": [],
   "source": []
  },
  {
   "cell_type": "code",
   "execution_count": null,
   "id": "797e3a5f",
   "metadata": {},
   "outputs": [],
   "source": []
  },
  {
   "cell_type": "code",
   "execution_count": null,
   "id": "6807adcc",
   "metadata": {},
   "outputs": [],
   "source": []
  },
  {
   "cell_type": "code",
   "execution_count": null,
   "id": "16c6fd4c",
   "metadata": {},
   "outputs": [],
   "source": []
  },
  {
   "cell_type": "code",
   "execution_count": null,
   "id": "444a313a",
   "metadata": {},
   "outputs": [],
   "source": []
  },
  {
   "cell_type": "code",
   "execution_count": null,
   "id": "3b543902",
   "metadata": {},
   "outputs": [],
   "source": []
  },
  {
   "cell_type": "code",
   "execution_count": null,
   "id": "7f52544e",
   "metadata": {},
   "outputs": [],
   "source": []
  }
 ],
 "metadata": {
  "kernelspec": {
   "display_name": "Python 3 (ipykernel)",
   "language": "python",
   "name": "python3"
  },
  "language_info": {
   "codemirror_mode": {
    "name": "ipython",
    "version": 3
   },
   "file_extension": ".py",
   "mimetype": "text/x-python",
   "name": "python",
   "nbconvert_exporter": "python",
   "pygments_lexer": "ipython3",
   "version": "3.8.8"
  }
 },
 "nbformat": 4,
 "nbformat_minor": 5
}
