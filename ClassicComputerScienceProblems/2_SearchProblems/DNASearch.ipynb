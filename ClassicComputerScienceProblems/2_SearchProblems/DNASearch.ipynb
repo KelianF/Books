{
 "cells": [
  {
   "cell_type": "code",
   "execution_count": 1,
   "id": "private-belly",
   "metadata": {},
   "outputs": [],
   "source": [
    "from enum import IntEnum\n",
    "from typing import Tuple, List"
   ]
  },
  {
   "cell_type": "markdown",
   "id": "adjustable-translator",
   "metadata": {},
   "source": [
    "# Sorting DNA"
   ]
  },
  {
   "cell_type": "code",
   "execution_count": 2,
   "id": "laden-triangle",
   "metadata": {},
   "outputs": [],
   "source": [
    "Nucleotide: IntEnum = IntEnum('Nucleotide', ('A', 'C', 'G', 'T'))"
   ]
  },
  {
   "cell_type": "markdown",
   "id": "accurate-azerbaijan",
   "metadata": {},
   "source": [
    "Codons can be defined as a tuple of three Nucleotides. A gene may be defined as a list of Codons."
   ]
  },
  {
   "cell_type": "code",
   "execution_count": 5,
   "id": "express-office",
   "metadata": {},
   "outputs": [],
   "source": [
    "Codon = Tuple[Nucleotide, Nucleotide, Nucleotide]"
   ]
  },
  {
   "cell_type": "code",
   "execution_count": 7,
   "id": "norman-crash",
   "metadata": {},
   "outputs": [],
   "source": [
    "Gene = List[Codon]"
   ]
  },
  {
   "cell_type": "markdown",
   "id": "criminal-yeast",
   "metadata": {},
   "source": [
    "Let's define a Gene string:"
   ]
  },
  {
   "cell_type": "code",
   "execution_count": 8,
   "id": "expected-hacker",
   "metadata": {},
   "outputs": [],
   "source": [
    "gene_str: str = \"ACGTGGCTCTCTAACGTACGTACGTACGGGGTTTATATATACCCTAGGACTCCCTTT\""
   ]
  },
  {
   "cell_type": "code",
   "execution_count": 10,
   "id": "foreign-resistance",
   "metadata": {},
   "outputs": [],
   "source": [
    "def string_to_gene(s: str) -> Gene:\n",
    "    gene: Gene = []\n",
    "    for i in range(0, len(s), 3):\n",
    "        if (i+2) >= len(s):  # Don't run off end\n",
    "            return gene\n",
    "        # Initialize codon out of tree nucleotides\n",
    "        codon: Codon =  (Nucleotide[s[i]], Nucleotide[s[i+1]], Nucleotide[s[i+2]])\n",
    "        gene.append(codon)  # Add codon to gene\n",
    "    return gene"
   ]
  },
  {
   "cell_type": "code",
   "execution_count": 12,
   "id": "secondary-capacity",
   "metadata": {},
   "outputs": [],
   "source": [
    "my_gene: Gene = string_to_gene(gene_str)"
   ]
  },
  {
   "cell_type": "code",
   "execution_count": 13,
   "id": "suffering-church",
   "metadata": {},
   "outputs": [
    {
     "data": {
      "text/plain": [
       "[(<Nucleotide.A: 1>, <Nucleotide.C: 2>, <Nucleotide.G: 3>),\n",
       " (<Nucleotide.T: 4>, <Nucleotide.G: 3>, <Nucleotide.G: 3>),\n",
       " (<Nucleotide.C: 2>, <Nucleotide.T: 4>, <Nucleotide.C: 2>),\n",
       " (<Nucleotide.T: 4>, <Nucleotide.C: 2>, <Nucleotide.T: 4>),\n",
       " (<Nucleotide.A: 1>, <Nucleotide.A: 1>, <Nucleotide.C: 2>),\n",
       " (<Nucleotide.G: 3>, <Nucleotide.T: 4>, <Nucleotide.A: 1>),\n",
       " (<Nucleotide.C: 2>, <Nucleotide.G: 3>, <Nucleotide.T: 4>),\n",
       " (<Nucleotide.A: 1>, <Nucleotide.C: 2>, <Nucleotide.G: 3>),\n",
       " (<Nucleotide.T: 4>, <Nucleotide.A: 1>, <Nucleotide.C: 2>),\n",
       " (<Nucleotide.G: 3>, <Nucleotide.G: 3>, <Nucleotide.G: 3>),\n",
       " (<Nucleotide.G: 3>, <Nucleotide.T: 4>, <Nucleotide.T: 4>),\n",
       " (<Nucleotide.T: 4>, <Nucleotide.A: 1>, <Nucleotide.T: 4>),\n",
       " (<Nucleotide.A: 1>, <Nucleotide.T: 4>, <Nucleotide.A: 1>),\n",
       " (<Nucleotide.T: 4>, <Nucleotide.A: 1>, <Nucleotide.C: 2>),\n",
       " (<Nucleotide.C: 2>, <Nucleotide.C: 2>, <Nucleotide.T: 4>),\n",
       " (<Nucleotide.A: 1>, <Nucleotide.G: 3>, <Nucleotide.G: 3>),\n",
       " (<Nucleotide.A: 1>, <Nucleotide.C: 2>, <Nucleotide.T: 4>),\n",
       " (<Nucleotide.C: 2>, <Nucleotide.C: 2>, <Nucleotide.C: 2>),\n",
       " (<Nucleotide.T: 4>, <Nucleotide.T: 4>, <Nucleotide.T: 4>)]"
      ]
     },
     "execution_count": 13,
     "metadata": {},
     "output_type": "execute_result"
    }
   ],
   "source": [
    "my_gene"
   ]
  },
  {
   "cell_type": "markdown",
   "id": "composite-northern",
   "metadata": {},
   "source": [
    "## Linear Search"
   ]
  },
  {
   "cell_type": "code",
   "execution_count": 14,
   "id": "printable-newsletter",
   "metadata": {},
   "outputs": [],
   "source": [
    "def linear_contains(gene: Gene, key_codon: Codon) -> bool:\n",
    "    for codon in gene:\n",
    "        if codon == key_codon:\n",
    "            return True\n",
    "    return False"
   ]
  },
  {
   "cell_type": "markdown",
   "id": "moral-parish",
   "metadata": {},
   "source": [
    "## Binary Search"
   ]
  },
  {
   "cell_type": "code",
   "execution_count": 16,
   "id": "italian-conspiracy",
   "metadata": {},
   "outputs": [],
   "source": [
    "def binary_contains(gene: Gene, key_codon: Codon) -> bool:\n",
    "    low: int = 0\n",
    "    high: int = len(gene) - 1\n",
    "    while low <= high:  # while there is still a search space\n",
    "        mid: int = (low + high) // 2\n",
    "        if gene[mid] < key_codon:\n",
    "            low = mid + 1\n",
    "        elif gene[mid] > key_codon:\n",
    "            high = mid - 1\n",
    "        else:\n",
    "            return True\n",
    "    return False\n",
    "           "
   ]
  },
  {
   "cell_type": "markdown",
   "id": "trained-meter",
   "metadata": {},
   "source": [
    "## Generic Search"
   ]
  },
  {
   "cell_type": "code",
   "execution_count": 17,
   "id": "extreme-content",
   "metadata": {},
   "outputs": [],
   "source": [
    "from __future__ import annotations\n",
    "from typing import TypeVar, Iterable, Sequence, Generic, List, Callable, Set, Deque, Dict, Any, Optional\n",
    "from typing_extensions import Protocol\n",
    "from heapq import heappush, heappop"
   ]
  },
  {
   "cell_type": "code",
   "execution_count": 18,
   "id": "amber-crowd",
   "metadata": {},
   "outputs": [],
   "source": [
    "T = TypeVar(\"T\")"
   ]
  },
  {
   "cell_type": "code",
   "execution_count": 24,
   "id": "accompanied-protocol",
   "metadata": {},
   "outputs": [],
   "source": [
    "def linear_contains(iterable: Iterable[T], key: T) -> bool:\n",
    "    for item in iterable:\n",
    "        if item == key:\n",
    "            return True\n",
    "    return False"
   ]
  },
  {
   "cell_type": "code",
   "execution_count": 20,
   "id": "quick-straight",
   "metadata": {},
   "outputs": [],
   "source": [
    "C = TypeVar(\"C\", bound=\"Comparable\")"
   ]
  },
  {
   "cell_type": "code",
   "execution_count": 21,
   "id": "celtic-offering",
   "metadata": {},
   "outputs": [],
   "source": [
    "class Comparable(Protocol):\n",
    "    def __eq__(self, other: Any) -> bool:\n",
    "        ...\n",
    "    def __lt__(self: C, other: C) -> bool:\n",
    "        ...\n",
    "    def __gt__(self: C, other: C) -> bool:\n",
    "        return (not self < other) and self != other\n",
    "    def __le__(self: C, other: C) -> bool:\n",
    "        return self < other or self == other\n",
    "    def __ge__(self: C, other: C) -> bool:\n",
    "        return not self < other"
   ]
  },
  {
   "cell_type": "code",
   "execution_count": 22,
   "id": "forced-patch",
   "metadata": {},
   "outputs": [],
   "source": [
    "def binary_contain(sequence: Sequence[C], key: C) -> bool:\n",
    "    low: int = 0\n",
    "    high: int = len(sequence) - 1\n",
    "    while low <= high:  # while there is still a search space\n",
    "        mid: int = (low + high)\n",
    "        if sequence[mid] < key:\n",
    "            low = mid + 1\n",
    "        elif sequence[mid] > key:\n",
    "            high = mid\n",
    "        else:\n",
    "            return True\n",
    "    return False"
   ]
  },
  {
   "cell_type": "code",
   "execution_count": 25,
   "id": "willing-coupon",
   "metadata": {},
   "outputs": [
    {
     "name": "stdout",
     "output_type": "stream",
     "text": [
      "True\n",
      "True\n",
      "False\n"
     ]
    }
   ],
   "source": [
    "if __name__ == \"__main__\":\n",
    "    print(linear_contains([1, 5, 15, 15, 15, 15, 20], 5))  # True\n",
    "    print(binary_contains([\"a\", \"d\", \"e\", \"f\", \"z\"], \"f\"))  # True\n",
    "    print(binary_contains([\"John\", \"mark\", \"ronald\", \"sarah\"], \"shella\"))  # False"
   ]
  },
  {
   "cell_type": "markdown",
   "id": "desirable-juvenile",
   "metadata": {},
   "source": [
    " "
   ]
  },
  {
   "cell_type": "markdown",
   "id": "polish-chamber",
   "metadata": {},
   "source": [
    "# Maze Solving"
   ]
  },
  {
   "cell_type": "code",
   "execution_count": null,
   "id": "ancient-formula",
   "metadata": {},
   "outputs": [],
   "source": []
  },
  {
   "cell_type": "code",
   "execution_count": null,
   "id": "packed-relation",
   "metadata": {},
   "outputs": [],
   "source": []
  },
  {
   "cell_type": "code",
   "execution_count": null,
   "id": "mighty-sense",
   "metadata": {},
   "outputs": [],
   "source": []
  },
  {
   "cell_type": "code",
   "execution_count": null,
   "id": "every-interaction",
   "metadata": {},
   "outputs": [],
   "source": []
  },
  {
   "cell_type": "code",
   "execution_count": null,
   "id": "banned-daniel",
   "metadata": {},
   "outputs": [],
   "source": []
  },
  {
   "cell_type": "code",
   "execution_count": null,
   "id": "serial-salon",
   "metadata": {},
   "outputs": [],
   "source": []
  }
 ],
 "metadata": {
  "kernelspec": {
   "display_name": "Python 3",
   "language": "python",
   "name": "python3"
  },
  "language_info": {
   "codemirror_mode": {
    "name": "ipython",
    "version": 3
   },
   "file_extension": ".py",
   "mimetype": "text/x-python",
   "name": "python",
   "nbconvert_exporter": "python",
   "pygments_lexer": "ipython3",
   "version": "3.8.3"
  }
 },
 "nbformat": 4,
 "nbformat_minor": 5
}
