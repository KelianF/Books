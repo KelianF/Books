{
 "cells": [
  {
   "cell_type": "markdown",
   "metadata": {},
   "source": [
    "# Python procedure for estimating $\\pi$ using MC Simulation"
   ]
  },
  {
   "cell_type": "code",
   "execution_count": 4,
   "metadata": {},
   "outputs": [
    {
     "name": "stdout",
     "output_type": "stream",
     "text": [
      "Pi =  3.14176\n",
      "Variance =  0.1685\n"
     ]
    }
   ],
   "source": [
    "from random import *\n",
    "from statistics import *\n",
    "\n",
    "N = 1_000_000\n",
    "\n",
    "Z = []\n",
    "\n",
    "for i in range(N):\n",
    "    x = uniform(-1, 1)\n",
    "    y = uniform(-1, 1)\n",
    "    if x**2 + y**2 <= 1:\n",
    "        Z.append(1)\n",
    "    else:\n",
    "        Z.append(0)\n",
    "\n",
    "print(\"Pi = \", 4.0 * round(mean(Z), 5))  # E=Here expect 3.14..\n",
    "print(\"Variance = \", round(variance(Z), 4))"
   ]
  },
  {
   "cell_type": "code",
   "execution_count": 5,
   "metadata": {},
   "outputs": [
    {
     "name": "stdout",
     "output_type": "stream",
     "text": [
      "A_I =  170.71\n",
      "Variance =  0.2359\n"
     ]
    }
   ],
   "source": [
    "# from random import *\n",
    "from statistics import *\n",
    "\n",
    "# Specify parameters\n",
    "a = 1\n",
    "b = 8\n",
    "N = 100_000\n",
    "\n",
    "# Integrand\n",
    "def f(x):\n",
    "    return x**2\n",
    "\n",
    "# Find value of c\n",
    "c = f(b)\n",
    "\n",
    "# Area of rectangle\n",
    "A_J = (b-a) * c\n",
    "\n",
    "Z = [0]*N\n",
    "for i in range(N):\n",
    "    x = uniform(a, b)\n",
    "    y = uniform(0, c)\n",
    "    if y <= f(x):\n",
    "        Z[i] = 1\n",
    "        \n",
    "A_I = mean(Z) * A_J\n",
    "\n",
    "print(\"A_I = \", round(A_I, 2))\n",
    "print(\"Variance = \", round(variance(Z), 4))\n",
    "    "
   ]
  },
  {
   "cell_type": "markdown",
   "metadata": {},
   "source": [
    "# Procedure for Buffon's needle experiement"
   ]
  },
  {
   "cell_type": "code",
   "execution_count": 8,
   "metadata": {},
   "outputs": [
    {
     "name": "stdout",
     "output_type": "stream",
     "text": [
      "P =  0.636\n",
      "Exact = 0.637\n"
     ]
    }
   ],
   "source": [
    "from random import *\n",
    "from math import *\n",
    "\n",
    "l = 1\n",
    "d = 1\n",
    "n = 1000_000\n",
    "count = 0\n",
    "\n",
    "for i in range(n):\n",
    "    a = uniform(0, d/2)\n",
    "    phi = uniform(0, pi)\n",
    "    b = (1/2) * sin(phi)\n",
    "    if a <= b:\n",
    "        count = count + 1\n",
    "        \n",
    "print(\"P = \", round(count/n, 3))\n",
    "print(\"Exact =\", round((2*l)/(pi*d), 3))"
   ]
  },
  {
   "cell_type": "code",
   "execution_count": null,
   "metadata": {},
   "outputs": [],
   "source": []
  }
 ],
 "metadata": {
  "kernelspec": {
   "display_name": "Python 3",
   "language": "python",
   "name": "python3"
  },
  "language_info": {
   "codemirror_mode": {
    "name": "ipython",
    "version": 3
   },
   "file_extension": ".py",
   "mimetype": "text/x-python",
   "name": "python",
   "nbconvert_exporter": "python",
   "pygments_lexer": "ipython3",
   "version": "3.8.5"
  }
 },
 "nbformat": 4,
 "nbformat_minor": 4
}
